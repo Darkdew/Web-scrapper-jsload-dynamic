{
  "nbformat": 4,
  "nbformat_minor": 0,
  "metadata": {
    "colab": {
      "name": "Aus_Fair.ipynb",
      "provenance": [],
      "collapsed_sections": [],
      "mount_file_id": "19xcjIxzcn6trufiqbKSmrLx9dOHMmCIb",
      "authorship_tag": "ABX9TyMOhJWnWVGi0NiG8F7fHLJ9",
      "include_colab_link": true
    },
    "kernelspec": {
      "name": "python3",
      "display_name": "Python 3"
    },
    "language_info": {
      "name": "python"
    }
  },
  "cells": [
    {
      "cell_type": "markdown",
      "metadata": {
        "id": "view-in-github",
        "colab_type": "text"
      },
      "source": [
        "<a href=\"https://colab.research.google.com/github/Darkdew/Web-scrapper-jsload-dynamic/blob/main/Aus_Fair_crawler_scraping.ipynb\" target=\"_parent\"><img src=\"https://colab.research.google.com/assets/colab-badge.svg\" alt=\"Open In Colab\"/></a>"
      ]
    },
    {
      "cell_type": "code",
      "metadata": {
        "id": "Xv4UM-mto1bz"
      },
      "source": [
        "import pandas as pd\n",
        "import requests\n",
        "from bs4 import BeautifulSoup\n",
        "headers = {'User-Agent':'Mozilla/5.0 (Windows NT 10.0; Win64; x64) AppleWebKit/537.36 (KHTML, like Gecko) Chrome/91.0.4472.77 Safari/537.36'}\n",
        "url = 'https://www.medhelp.org/forums/STDs/show/116?page=1'\n",
        "\n",
        "r = requests.get(url, headers= headers)\n",
        "soup = BeautifulSoup(r.text, 'html.parser')"
      ],
      "execution_count": null,
      "outputs": []
    },
    {
      "cell_type": "code",
      "metadata": {
        "colab": {
          "base_uri": "https://localhost:8080/"
        },
        "id": "sQSY_0x5_pOS",
        "outputId": "40dbd1b6-ab97-4d30-bc12-4245f53c9ac8"
      },
      "source": [
        "page_count = int(16920/6)\n",
        "page_count"
      ],
      "execution_count": null,
      "outputs": [
        {
          "output_type": "execute_result",
          "data": {
            "text/plain": [
              "2820"
            ]
          },
          "metadata": {
            "tags": []
          },
          "execution_count": 3
        }
      ]
    },
    {
      "cell_type": "code",
      "metadata": {
        "id": "fkZPF0yEAvS8"
      },
      "source": [
        "full_list=[]\n",
        "for page_cnt in range(1,page_count):\n",
        "        \n",
        "        #generic page url\n",
        "        main_url= 'https://www.medhelp.org/forums/STDs/show/116?page='\n",
        "\n",
        "        #concatenating page number upto 2820\n",
        "        current_url = main_url+ str(page_cnt)\n",
        "        print(current_url)\n",
        "        \n",
        "        #runnign soup on page=n\n",
        "        r0 = requests.get(current_url, headers= headers)\n",
        "        soup0 = BeautifulSoup(r0.text, 'html.parser')\n",
        "        \n",
        "        #counting number of available threads on page=n\n",
        "        threads = soup0.find_all('div',{'class':'username'})\n",
        "        number_of_threads= len(threads)\n",
        "\n",
        "\n",
        "\n",
        "\n",
        "        # r_current_url = requests.get(current_url, headers= headers)\n",
        "        # current_url_soup = BeautifulSoup(r_current_url.text, 'html.parser')\n",
        "        # current_url_thread_name = current_url_soup.find_all('div',{'class':'avt avt-sm'})\n",
        "              \n",
        "        for count in range(number_of_threads):\n",
        "            temp_list=[]\n",
        "            # Extracting thread title\n",
        "            thread_title= soup0.find_all('div',{'class':'subj_header'})[count].find_all('a')[1].text\n",
        "\n",
        "            #Extracting Username\n",
        "            username= soup0.find_all('div',{'class':'username'})[count].find('a').text\n",
        "            print(username)\n",
        "            #Extracting_profile_url\n",
        "            profile_extension = soup0.find_all('div',{'class':'username'})[count].find('a')['href']\n",
        "            profile_url= 'https://www.medhelp.org' + profile_extension\n",
        "\n",
        "            r1 = requests.get(profile_url, headers= headers)\n",
        "            soup1 = BeautifulSoup(r1.text, 'html.parser')\n",
        "\n",
        "            print(profile_url)\n",
        "            #profile_details\n",
        "            profile_details= soup1.find_all('div',{'class':'section'})\n",
        "            breaking= str(profile_details[0]).split('</span>')\n",
        "\n",
        "            #AboutMe\n",
        "            try:\n",
        "              AboutMe= breaking[1].replace('<span>','').replace(',','')\n",
        "\n",
        "            except Exception as e:\n",
        "              AboutMe= 'NA'\n",
        "            #print(AboutMe)\n",
        "\n",
        "            #membership Date\n",
        "            try:\n",
        "              Membership_date= breaking[2].replace('\\n','').replace('</div>','').replace(',','')\n",
        "            #print(Membership_date)\n",
        "            except Exception as e:\n",
        "              Membership_date=breaking[0]\n",
        "            \n",
        "            #part_of_communities\n",
        "            try:\n",
        "              communities= soup1.find('div',{'id':'my_comm'}).find_all('a')\n",
        "              community_list=[]\n",
        "          \n",
        "              for i in range(2,55,3):\n",
        "                try:\n",
        "                  community= communities[i].text\n",
        "                except Exception as e:\n",
        "                  break\n",
        "                community_list.append(community)\n",
        "          \n",
        "            except Exception as e:\n",
        "              community_list='NA'\n",
        "            print(community_list)\n",
        "\n",
        "            temp_list=[thread_title, username, profile_url,AboutMe,Membership_date,community_list]\n",
        "            full_list.append(temp_list)\n",
        "  \n",
        "df = pd.DataFrame(full_list,columns=(\"Thread_Title\",\"Username\",\"Profile_url\",\"AboutMe\",\"Membership_date\",\"is part of Communities\"))\n",
        "df.to_csv('/content/drive/MyDrive/Colab Data/master_df_aus1.csv', index= False)"
      ],
      "execution_count": null,
      "outputs": []
    },
    {
      "cell_type": "code",
      "metadata": {
        "id": "IU9HqEuqgqXX"
      },
      "source": [
        ""
      ],
      "execution_count": null,
      "outputs": []
    },
    {
      "cell_type": "code",
      "metadata": {
        "colab": {
          "base_uri": "https://localhost:8080/",
          "height": 446
        },
        "id": "jwh1fVHZgr_V",
        "outputId": "131d3793-17f1-49ef-e2f5-872505e079f0"
      },
      "source": [
        "df.head()"
      ],
      "execution_count": null,
      "outputs": [
        {
          "output_type": "execute_result",
          "data": {
            "text/html": [
              "<div>\n",
              "<style scoped>\n",
              "    .dataframe tbody tr th:only-of-type {\n",
              "        vertical-align: middle;\n",
              "    }\n",
              "\n",
              "    .dataframe tbody tr th {\n",
              "        vertical-align: top;\n",
              "    }\n",
              "\n",
              "    .dataframe thead th {\n",
              "        text-align: right;\n",
              "    }\n",
              "</style>\n",
              "<table border=\"1\" class=\"dataframe\">\n",
              "  <thead>\n",
              "    <tr style=\"text-align: right;\">\n",
              "      <th></th>\n",
              "      <th>Thread_Title</th>\n",
              "      <th>Username</th>\n",
              "      <th>Profile_url</th>\n",
              "      <th>AboutMe</th>\n",
              "      <th>Membership_date</th>\n",
              "      <th>is part of Communities</th>\n",
              "    </tr>\n",
              "  </thead>\n",
              "  <tbody>\n",
              "    <tr>\n",
              "      <th>0</th>\n",
              "      <td>1 Encounter, Really worried</td>\n",
              "      <td>lamo13</td>\n",
              "      <td>https://www.medhelp.org/personal_pages/user/12...</td>\n",
              "      <td>Male 43</td>\n",
              "      <td>member since Feb 2010</td>\n",
              "      <td>[STDs / STIs, Herpes]</td>\n",
              "    </tr>\n",
              "    <tr>\n",
              "      <th>1</th>\n",
              "      <td>herpes  / hpv and other std</td>\n",
              "      <td>johnpaul432</td>\n",
              "      <td>https://www.medhelp.org/personal_pages/user/11...</td>\n",
              "      <td>Female</td>\n",
              "      <td>member since Dec 2009</td>\n",
              "      <td>NA</td>\n",
              "    </tr>\n",
              "    <tr>\n",
              "      <th>2</th>\n",
              "      <td>Oral Sex, Molluscum</td>\n",
              "      <td>RoboG</td>\n",
              "      <td>https://www.medhelp.org/personal_pages/user/15...</td>\n",
              "      <td>member since Jul 2006\\n    &lt;/div&gt;</td>\n",
              "      <td>&lt;div class=\"section\"&gt;\\n&lt;span class=\"title\"&gt;Abo...</td>\n",
              "      <td>NA</td>\n",
              "    </tr>\n",
              "    <tr>\n",
              "      <th>3</th>\n",
              "      <td>Risk of STDs from kissing/oral with escort</td>\n",
              "      <td>libertine851</td>\n",
              "      <td>https://www.medhelp.org/personal_pages/user/30...</td>\n",
              "      <td>Male</td>\n",
              "      <td>member since Jun 2012</td>\n",
              "      <td>NA</td>\n",
              "    </tr>\n",
              "    <tr>\n",
              "      <th>4</th>\n",
              "      <td>Syphilis: RPR reactive, but negative for trepo...</td>\n",
              "      <td>takh</td>\n",
              "      <td>https://www.medhelp.org/personal_pages/user/18...</td>\n",
              "      <td>Male</td>\n",
              "      <td>member since Nov 2011</td>\n",
              "      <td>NA</td>\n",
              "    </tr>\n",
              "  </tbody>\n",
              "</table>\n",
              "</div>"
            ],
            "text/plain": [
              "                                        Thread_Title  ... is part of Communities\n",
              "0                        1 Encounter, Really worried  ...  [STDs / STIs, Herpes]\n",
              "1                       herpes  / hpv and other std   ...                     NA\n",
              "2                                Oral Sex, Molluscum  ...                     NA\n",
              "3         Risk of STDs from kissing/oral with escort  ...                     NA\n",
              "4  Syphilis: RPR reactive, but negative for trepo...  ...                     NA\n",
              "\n",
              "[5 rows x 6 columns]"
            ]
          },
          "metadata": {
            "tags": []
          },
          "execution_count": 39
        }
      ]
    },
    {
      "cell_type": "code",
      "metadata": {
        "id": "FJv1D6SLluTj"
      },
      "source": [
        "df.to_csv('/content/drive/MyDrive/Colab Data/master_df_aus_2.csv', index=False)"
      ],
      "execution_count": null,
      "outputs": []
    },
    {
      "cell_type": "code",
      "metadata": {
        "id": "HzZpm3V8cXtq"
      },
      "source": [
        "df= pd.read_csv('/content/drive/MyDrive/Colab Data/master_df_aus_2.csv')"
      ],
      "execution_count": null,
      "outputs": []
    },
    {
      "cell_type": "code",
      "metadata": {
        "colab": {
          "base_uri": "https://localhost:8080/",
          "height": 463
        },
        "id": "HscVcskXclqH",
        "outputId": "0010c439-11b0-49c5-872c-d96df83aa03d"
      },
      "source": [
        "df.head()"
      ],
      "execution_count": null,
      "outputs": [
        {
          "output_type": "execute_result",
          "data": {
            "text/html": [
              "<div>\n",
              "<style scoped>\n",
              "    .dataframe tbody tr th:only-of-type {\n",
              "        vertical-align: middle;\n",
              "    }\n",
              "\n",
              "    .dataframe tbody tr th {\n",
              "        vertical-align: top;\n",
              "    }\n",
              "\n",
              "    .dataframe thead th {\n",
              "        text-align: right;\n",
              "    }\n",
              "</style>\n",
              "<table border=\"1\" class=\"dataframe\">\n",
              "  <thead>\n",
              "    <tr style=\"text-align: right;\">\n",
              "      <th></th>\n",
              "      <th>Thread_Title</th>\n",
              "      <th>Username</th>\n",
              "      <th>Profile_url</th>\n",
              "      <th>AboutMe</th>\n",
              "      <th>Membership_date</th>\n",
              "      <th>is part of Communities</th>\n",
              "    </tr>\n",
              "  </thead>\n",
              "  <tbody>\n",
              "    <tr>\n",
              "      <th>0</th>\n",
              "      <td>1 Encounter, Really worried</td>\n",
              "      <td>lamo13</td>\n",
              "      <td>https://www.medhelp.org/personal_pages/user/12...</td>\n",
              "      <td>Male 43</td>\n",
              "      <td>member since Feb 2010</td>\n",
              "      <td>['STDs / STIs', 'Herpes']</td>\n",
              "    </tr>\n",
              "    <tr>\n",
              "      <th>1</th>\n",
              "      <td>herpes  / hpv and other std</td>\n",
              "      <td>johnpaul432</td>\n",
              "      <td>https://www.medhelp.org/personal_pages/user/11...</td>\n",
              "      <td>Female</td>\n",
              "      <td>member since Dec 2009</td>\n",
              "      <td>NaN</td>\n",
              "    </tr>\n",
              "    <tr>\n",
              "      <th>2</th>\n",
              "      <td>Oral Sex, Molluscum</td>\n",
              "      <td>RoboG</td>\n",
              "      <td>https://www.medhelp.org/personal_pages/user/15...</td>\n",
              "      <td>member since Jul 2006\\n    &lt;/div&gt;</td>\n",
              "      <td>&lt;div class=\"section\"&gt;\\n&lt;span class=\"title\"&gt;Abo...</td>\n",
              "      <td>NaN</td>\n",
              "    </tr>\n",
              "    <tr>\n",
              "      <th>3</th>\n",
              "      <td>Risk of STDs from kissing/oral with escort</td>\n",
              "      <td>libertine851</td>\n",
              "      <td>https://www.medhelp.org/personal_pages/user/30...</td>\n",
              "      <td>Male</td>\n",
              "      <td>member since Jun 2012</td>\n",
              "      <td>NaN</td>\n",
              "    </tr>\n",
              "    <tr>\n",
              "      <th>4</th>\n",
              "      <td>Syphilis: RPR reactive, but negative for trepo...</td>\n",
              "      <td>takh</td>\n",
              "      <td>https://www.medhelp.org/personal_pages/user/18...</td>\n",
              "      <td>Male</td>\n",
              "      <td>member since Nov 2011</td>\n",
              "      <td>NaN</td>\n",
              "    </tr>\n",
              "  </tbody>\n",
              "</table>\n",
              "</div>"
            ],
            "text/plain": [
              "                                        Thread_Title  ...     is part of Communities\n",
              "0                        1 Encounter, Really worried  ...  ['STDs / STIs', 'Herpes']\n",
              "1                       herpes  / hpv and other std   ...                        NaN\n",
              "2                                Oral Sex, Molluscum  ...                        NaN\n",
              "3         Risk of STDs from kissing/oral with escort  ...                        NaN\n",
              "4  Syphilis: RPR reactive, but negative for trepo...  ...                        NaN\n",
              "\n",
              "[5 rows x 6 columns]"
            ]
          },
          "metadata": {
            "tags": []
          },
          "execution_count": 5
        }
      ]
    },
    {
      "cell_type": "code",
      "metadata": {
        "colab": {
          "base_uri": "https://localhost:8080/"
        },
        "id": "bl799-w-ntQ3",
        "outputId": "6a9890b8-1f3b-4f6b-ded8-355c581f8aae"
      },
      "source": [
        "!apt-get update\n",
        "!apt install chromium-chromedriver\n",
        "!cp /usr/lib/chromium-browser/chromedriver /usr/bin\n",
        "!pip install selenium"
      ],
      "execution_count": null,
      "outputs": [
        {
          "output_type": "stream",
          "text": [
            "\r0% [Working]\r            \rGet:1 http://security.ubuntu.com/ubuntu bionic-security InRelease [88.7 kB]\n",
            "\r0% [Connecting to archive.ubuntu.com (91.189.88.152)] [1 InRelease 14.2 kB/88.7\r0% [Waiting for headers] [Waiting for headers] [Waiting for headers] [Waiting f\r                                                                               \rGet:2 https://cloud.r-project.org/bin/linux/ubuntu bionic-cran40/ InRelease [3,626 B]\n",
            "Ign:3 https://developer.download.nvidia.com/compute/cuda/repos/ubuntu1804/x86_64  InRelease\n",
            "Hit:4 http://archive.ubuntu.com/ubuntu bionic InRelease\n",
            "Get:5 http://ppa.launchpad.net/c2d4u.team/c2d4u4.0+/ubuntu bionic InRelease [15.9 kB]\n",
            "Get:6 http://archive.ubuntu.com/ubuntu bionic-updates InRelease [88.7 kB]\n",
            "Ign:7 https://developer.download.nvidia.com/compute/machine-learning/repos/ubuntu1804/x86_64  InRelease\n",
            "Get:8 https://developer.download.nvidia.com/compute/cuda/repos/ubuntu1804/x86_64  Release [697 B]\n",
            "Hit:9 https://developer.download.nvidia.com/compute/machine-learning/repos/ubuntu1804/x86_64  Release\n",
            "Get:10 https://developer.download.nvidia.com/compute/cuda/repos/ubuntu1804/x86_64  Release.gpg [836 B]\n",
            "Get:11 http://security.ubuntu.com/ubuntu bionic-security/main amd64 Packages [2,221 kB]\n",
            "Hit:12 http://ppa.launchpad.net/cran/libgit2/ubuntu bionic InRelease\n",
            "Get:13 http://archive.ubuntu.com/ubuntu bionic-backports InRelease [74.6 kB]\n",
            "Get:14 http://security.ubuntu.com/ubuntu bionic-security/restricted amd64 Packages [473 kB]\n",
            "Get:15 http://ppa.launchpad.net/deadsnakes/ppa/ubuntu bionic InRelease [15.9 kB]\n",
            "Get:16 http://security.ubuntu.com/ubuntu bionic-security/universe amd64 Packages [1,418 kB]\n",
            "Get:17 http://ppa.launchpad.net/graphics-drivers/ppa/ubuntu bionic InRelease [21.3 kB]\n",
            "Get:18 http://ppa.launchpad.net/c2d4u.team/c2d4u4.0+/ubuntu bionic/main Sources [1,777 kB]\n",
            "Ign:20 https://developer.download.nvidia.com/compute/cuda/repos/ubuntu1804/x86_64  Packages\n",
            "Get:20 https://developer.download.nvidia.com/compute/cuda/repos/ubuntu1804/x86_64  Packages [599 kB]\n",
            "Get:21 http://ppa.launchpad.net/c2d4u.team/c2d4u4.0+/ubuntu bionic/main amd64 Packages [909 kB]\n",
            "Get:22 http://archive.ubuntu.com/ubuntu bionic-updates/universe amd64 Packages [2,188 kB]\n",
            "Get:23 http://archive.ubuntu.com/ubuntu bionic-updates/restricted amd64 Packages [505 kB]\n",
            "Get:24 http://archive.ubuntu.com/ubuntu bionic-updates/main amd64 Packages [2,654 kB]\n",
            "Get:25 http://ppa.launchpad.net/deadsnakes/ppa/ubuntu bionic/main amd64 Packages [40.9 kB]\n",
            "Get:26 http://ppa.launchpad.net/graphics-drivers/ppa/ubuntu bionic/main amd64 Packages [41.5 kB]\n",
            "Fetched 13.1 MB in 4s (3,267 kB/s)\n",
            "Reading package lists... Done\n",
            "Reading package lists... Done\n",
            "Building dependency tree       \n",
            "Reading state information... Done\n",
            "The following additional packages will be installed:\n",
            "  chromium-browser chromium-browser-l10n chromium-codecs-ffmpeg-extra\n",
            "Suggested packages:\n",
            "  webaccounts-chromium-extension unity-chromium-extension\n",
            "The following NEW packages will be installed:\n",
            "  chromium-browser chromium-browser-l10n chromium-chromedriver\n",
            "  chromium-codecs-ffmpeg-extra\n",
            "0 upgraded, 4 newly installed, 0 to remove and 81 not upgraded.\n",
            "Need to get 86.0 MB of archives.\n",
            "After this operation, 298 MB of additional disk space will be used.\n",
            "Get:1 http://archive.ubuntu.com/ubuntu bionic-updates/universe amd64 chromium-codecs-ffmpeg-extra amd64 91.0.4472.101-0ubuntu0.18.04.1 [1,124 kB]\n",
            "Get:2 http://archive.ubuntu.com/ubuntu bionic-updates/universe amd64 chromium-browser amd64 91.0.4472.101-0ubuntu0.18.04.1 [76.1 MB]\n",
            "Get:3 http://archive.ubuntu.com/ubuntu bionic-updates/universe amd64 chromium-browser-l10n all 91.0.4472.101-0ubuntu0.18.04.1 [3,937 kB]\n",
            "Get:4 http://archive.ubuntu.com/ubuntu bionic-updates/universe amd64 chromium-chromedriver amd64 91.0.4472.101-0ubuntu0.18.04.1 [4,837 kB]\n",
            "Fetched 86.0 MB in 4s (23.4 MB/s)\n",
            "Selecting previously unselected package chromium-codecs-ffmpeg-extra.\n",
            "(Reading database ... 160772 files and directories currently installed.)\n",
            "Preparing to unpack .../chromium-codecs-ffmpeg-extra_91.0.4472.101-0ubuntu0.18.04.1_amd64.deb ...\n",
            "Unpacking chromium-codecs-ffmpeg-extra (91.0.4472.101-0ubuntu0.18.04.1) ...\n",
            "Selecting previously unselected package chromium-browser.\n",
            "Preparing to unpack .../chromium-browser_91.0.4472.101-0ubuntu0.18.04.1_amd64.deb ...\n",
            "Unpacking chromium-browser (91.0.4472.101-0ubuntu0.18.04.1) ...\n",
            "Selecting previously unselected package chromium-browser-l10n.\n",
            "Preparing to unpack .../chromium-browser-l10n_91.0.4472.101-0ubuntu0.18.04.1_all.deb ...\n",
            "Unpacking chromium-browser-l10n (91.0.4472.101-0ubuntu0.18.04.1) ...\n",
            "Selecting previously unselected package chromium-chromedriver.\n",
            "Preparing to unpack .../chromium-chromedriver_91.0.4472.101-0ubuntu0.18.04.1_amd64.deb ...\n",
            "Unpacking chromium-chromedriver (91.0.4472.101-0ubuntu0.18.04.1) ...\n",
            "Setting up chromium-codecs-ffmpeg-extra (91.0.4472.101-0ubuntu0.18.04.1) ...\n",
            "Setting up chromium-browser (91.0.4472.101-0ubuntu0.18.04.1) ...\n",
            "update-alternatives: using /usr/bin/chromium-browser to provide /usr/bin/x-www-browser (x-www-browser) in auto mode\n",
            "update-alternatives: using /usr/bin/chromium-browser to provide /usr/bin/gnome-www-browser (gnome-www-browser) in auto mode\n",
            "Setting up chromium-chromedriver (91.0.4472.101-0ubuntu0.18.04.1) ...\n",
            "Setting up chromium-browser-l10n (91.0.4472.101-0ubuntu0.18.04.1) ...\n",
            "Processing triggers for man-db (2.8.3-2ubuntu0.1) ...\n",
            "Processing triggers for hicolor-icon-theme (0.17-2) ...\n",
            "Processing triggers for mime-support (3.60ubuntu1) ...\n",
            "Processing triggers for libc-bin (2.27-3ubuntu1.2) ...\n",
            "/sbin/ldconfig.real: /usr/local/lib/python3.7/dist-packages/ideep4py/lib/libmkldnn.so.0 is not a symbolic link\n",
            "\n",
            "cp: '/usr/lib/chromium-browser/chromedriver' and '/usr/bin/chromedriver' are the same file\n",
            "Collecting selenium\n",
            "\u001b[?25l  Downloading https://files.pythonhosted.org/packages/80/d6/4294f0b4bce4de0abf13e17190289f9d0613b0a44e5dd6a7f5ca98459853/selenium-3.141.0-py2.py3-none-any.whl (904kB)\n",
            "\u001b[K     |████████████████████████████████| 911kB 4.0MB/s \n",
            "\u001b[?25hRequirement already satisfied: urllib3 in /usr/local/lib/python3.7/dist-packages (from selenium) (1.24.3)\n",
            "Installing collected packages: selenium\n",
            "Successfully installed selenium-3.141.0\n"
          ],
          "name": "stdout"
        }
      ]
    },
    {
      "cell_type": "code",
      "metadata": {
        "id": "vlTrxwb1n_B9"
      },
      "source": [
        "from selenium import webdriver\n",
        "options = webdriver.ChromeOptions()\n",
        "options.add_argument('--headless')\n",
        "options.add_argument('--no-sandbox')\n",
        "options.add_argument('--disable-dev-shm-usage')\n",
        "\n",
        "wd = webdriver.Chrome('chromedriver',options=options)\n"
      ],
      "execution_count": null,
      "outputs": []
    },
    {
      "cell_type": "code",
      "metadata": {
        "id": "L7Iyiitv6CHK"
      },
      "source": [
        "from bs4 import BeautifulSoup"
      ],
      "execution_count": null,
      "outputs": []
    },
    {
      "cell_type": "code",
      "metadata": {
        "id": "guQVD_1QmfVm"
      },
      "source": [
        "import pandas as pd\n",
        "full_final_list=[]\n",
        "for index, row in df.iterrows():\n",
        "    temp_list1 =[]\n",
        "    headers = {'User-Agent':'Mozilla/5.0 (Windows NT 10.0; Win64; x64) AppleWebKit/537.36 (KHTML, like Gecko) Chrome/91.0.4472.77 Safari/537.36'}\n",
        "    \n",
        "    profile_url= row['Profile_url']\n",
        "    print(profile_url)\n",
        "\n",
        "    #crawling through profile page\n",
        "    r2=wd.get(profile_url)\n",
        "    r3=wd.page_source#)  # results\n",
        "    soup2 = BeautifulSoup(r3, 'html.parser')\n",
        "\n",
        "    #See-All posts url\n",
        "    all_posts_url_value= soup2.find('div',{'id': 'mw_subtitle_2'})\n",
        "    try: \n",
        "      posts_url= all_posts_url_value.find('a')['href']\n",
        "      see_all_posts_url= 'https://www.medhelp.org'+posts_url\n",
        "      print(see_all_posts_url)\n",
        "    \n",
        "    except:\n",
        "      continue\n",
        "    #crawling on all posts page\n",
        "    r4=wd.get(see_all_posts_url)\n",
        "    r5=wd.page_source#)  # results\n",
        "    soup3 = BeautifulSoup(r5, 'html.parser')\n",
        "\n",
        "    #counting posts on page\n",
        "    response_link= soup3.find_all('div',{'class':'subj_user os_12'})\n",
        "\n",
        "    #looping over the available posts\n",
        "    for j in range(len(response_link)):\n",
        "      #capturing response_url\n",
        "      response_link_url= response_link[j].find('a')['href']\n",
        "      response_link_url_final= 'https://www.medhelp.org'+response_link_url\n",
        "      print(response_link_url_final)\n",
        "      \n",
        "      #crawling on specific_response_url\n",
        "      r6=wd.get(response_link_url_final)\n",
        "      r7=wd.page_source#)  # results\n",
        "\n",
        "      soup4 = BeautifulSoup(r7, 'html.parser')\n",
        "\n",
        "      ##\n",
        "      resp_locn= response_link_url_final.split('post_')[1]\n",
        "      div_class= 'mh_vit_resp_ctn post_ctn_'+ resp_locn\n",
        "\n",
        "      #response_text_final\n",
        "      \n",
        "      #len(response_text)\n",
        "      try:\n",
        "        response_text= soup4.find_all('div',{'class':div_class})\n",
        "        #print(response_text)\n",
        "        response_text_final= response_text[0].find('div',{'class':'resp_body '}).text\n",
        "      except Exception as e:\n",
        "        response_text_final= soup4.find_all('div',{'id':'subject_msg'})[0].text\n",
        "      ##response_time_final\n",
        "      try:\n",
        "        response_time_final= response_text[0].find('time',{'class':'mh_timestamp'}).text\n",
        "\n",
        "      except Exception as e:\n",
        "        response_time_final=soup4.find_all('div',{'class':'username'})[0].find('time')[\"datetime\"]\n",
        "      temp_list1= [row['Thread_Title'], row['Username'], row['Profile_url'], row['AboutMe'], row['Membership_date'], row['is part of Communities'], response_text_final, response_time_final]\n",
        "      full_final_list.append(temp_list1)\n",
        "\n",
        "import pandas as pd\n",
        "\n",
        "df_final = pd.DataFrame(full_final_list,columns=(\"Thread_Title\",\"Username\",\"Profile_url\",\"AboutMe\",\"Membership_date\",\"is part of Communities\",\"Response_text\",\"Response_time\"))\n",
        "df_final.to_csv('/content/drive/MyDrive/Colab Data/df_aus_final_final.csv', index=False)"
      ],
      "execution_count": null,
      "outputs": []
    },
    {
      "cell_type": "code",
      "metadata": {
        "id": "N5d6ZBG3pesE"
      },
      "source": [
        "import pandas as pd\n",
        "\n",
        "df_final = pd.DataFrame(full_final_list,columns=(\"Thread_Title\",\"Username\",\"Profile_url\",\"AboutMe\",\"Membership_date\",\"is part of Communities\",\"Response_text\",\"Response_time\"))\n",
        "df_final.to_csv('/content/drive/MyDrive/Colab Data/df_aus_final_final.csv', index=False)"
      ],
      "execution_count": null,
      "outputs": []
    },
    {
      "cell_type": "code",
      "metadata": {
        "id": "SRTXFdRi5TFr"
      },
      "source": [
        "#response_time_final"
      ],
      "execution_count": null,
      "outputs": []
    },
    {
      "cell_type": "code",
      "metadata": {
        "id": "5bwTvDgd4hgb"
      },
      "source": [
        "#full_final_list"
      ],
      "execution_count": null,
      "outputs": []
    },
    {
      "cell_type": "code",
      "metadata": {
        "id": "qkeXXYrzrd4u"
      },
      "source": [
        "import pandas as pd\n",
        "df_final = pd.DataFrame(full_final_list,columns=(\"Thread_Title\",\"Username\",\"Profile_url\",\"AboutMe\",\"Membership_date\",\"is part of Communities\",\"Response_text\",\"Response_time\"))\n",
        "df_final.to_csv('Australia_data_v1.csv', index=False)"
      ],
      "execution_count": null,
      "outputs": []
    },
    {
      "cell_type": "code",
      "metadata": {
        "id": "aD6_fPgk4KL1"
      },
      "source": [
        "from google.colab import drive\n",
        "drive.mount('/content/drive')"
      ],
      "execution_count": null,
      "outputs": []
    },
    {
      "cell_type": "code",
      "metadata": {
        "id": "xkS3mol3pYpx"
      },
      "source": [
        "import pandas as pd"
      ],
      "execution_count": null,
      "outputs": []
    }
  ]
}