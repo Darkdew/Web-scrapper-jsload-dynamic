{
  "nbformat": 4,
  "nbformat_minor": 0,
  "metadata": {
    "colab": {
      "name": "Canada.ipynb",
      "provenance": [],
      "authorship_tag": "ABX9TyNI8tRCG2/uGDbsaOjP0LoY",
      "include_colab_link": true
    },
    "kernelspec": {
      "name": "python3",
      "display_name": "Python 3"
    },
    "language_info": {
      "name": "python"
    }
  },
  "cells": [
    {
      "cell_type": "markdown",
      "metadata": {
        "id": "view-in-github",
        "colab_type": "text"
      },
      "source": [
        "<a href=\"https://colab.research.google.com/github/Darkdew/Web-scrapper-jsload-dynamic/blob/main/Canada.ipynb\" target=\"_parent\"><img src=\"https://colab.research.google.com/assets/colab-badge.svg\" alt=\"Open In Colab\"/></a>"
      ]
    },
    {
      "cell_type": "code",
      "metadata": {
        "id": "xpkOhncG_aij"
      },
      "source": [
        "import pandas as pd\n",
        "import requests\n",
        "from bs4 import BeautifulSoup\n",
        "headers = {'User-Agent':'Mozilla/5.0 (Windows NT 10.0; Win64; x64) AppleWebKit/537.36 (KHTML, like Gecko) Chrome/91.0.4472.77 Safari/537.36'}\n",
        "url = 'https://smartsexresource.com/ask-us/answered-questions'\n",
        "\n",
        "r = requests.get(url, headers= headers)\n",
        "soup = BeautifulSoup(r.text, 'html.parser')"
      ],
      "execution_count": 14,
      "outputs": []
    },
    {
      "cell_type": "code",
      "metadata": {
        "colab": {
          "base_uri": "https://localhost:8080/"
        },
        "id": "QgRDQQIxFPyg",
        "outputId": "504eb724-f65e-48a7-e410-c7f3217066c3"
      },
      "source": [
        "#counting number of available threads on page=n\n",
        "threads= soup.find_all('div',{'class':'field-content questions-question'})\n",
        "number_of_threads=len(threads)\n",
        "number_of_threads"
      ],
      "execution_count": 4,
      "outputs": [
        {
          "output_type": "execute_result",
          "data": {
            "text/plain": [
              "5"
            ]
          },
          "metadata": {
            "tags": []
          },
          "execution_count": 4
        }
      ]
    },
    {
      "cell_type": "code",
      "metadata": {
        "colab": {
          "base_uri": "https://localhost:8080/",
          "height": 35
        },
        "id": "oigh3AjtHM6V",
        "outputId": "a80ea54c-d655-478a-e1c4-f88f993ba285"
      },
      "source": [
        "thread_url= soup.find_all('a',{'class':'question-detail-link'})[1]['href']\n",
        "thread_url"
      ],
      "execution_count": 3,
      "outputs": [
        {
          "output_type": "execute_result",
          "data": {
            "application/vnd.google.colaboratory.intrinsic+json": {
              "type": "string"
            },
            "text/plain": [
              "'/ask-us/questions/does-recurring-pus-tonsils-indicate-oral-std'"
            ]
          },
          "metadata": {
            "tags": []
          },
          "execution_count": 3
        }
      ]
    },
    {
      "cell_type": "code",
      "metadata": {
        "id": "4KhBVCP3GbAr"
      },
      "source": [
        "url= 'https://smartsexresource.com'+thread_url[0]['href']"
      ],
      "execution_count": null,
      "outputs": []
    },
    {
      "cell_type": "code",
      "metadata": {
        "id": "zQ3-Z8N91Xo-"
      },
      "source": [
        "https://smartsexresource.com/ask-us/answered-questions?page=1"
      ],
      "execution_count": null,
      "outputs": []
    },
    {
      "cell_type": "code",
      "metadata": {
        "id": "v-4UHgH9GC9M"
      },
      "source": [
        "full_list=[]\n",
        "for page in range(237):\n",
        "  print('********', page)\n",
        "  page_url= 'https://smartsexresource.com/ask-us/answered-questions?'+'page='+str(page)\n",
        "  r0 = requests.get(page_url, headers= headers)\n",
        "  soup0 = BeautifulSoup(r0.text, 'html.parser')\n",
        "  \n",
        "  #counting number of available threads on page=n\n",
        "  threads= soup0.find_all('div',{'class':'field-content questions-question'})\n",
        "  number_of_threads=len(threads)\n",
        "  #number_of_threads\n",
        "\n",
        "  # full_list=[]\n",
        "  for count in range(number_of_threads):\n",
        "    temp_list=[]\n",
        "    \n",
        "    \n",
        "    # Extracting thread url extension\n",
        "    thread_url_ext= soup0.find_all('a',{'class':'question-detail-link'})[count]['href']\n",
        "\n",
        "    #url_to_navigate\n",
        "    thread_url= 'https://smartsexresource.com'+thread_url_ext\n",
        "    r1 = requests.get(thread_url, headers= headers)\n",
        "    soup1 = BeautifulSoup(r1.text, 'html.parser')\n",
        "\n",
        "    #Question\n",
        "    try:\n",
        "      question= soup1.find('div',{'class':'field-content questions-question'}).text\n",
        "    except Exception as e:\n",
        "      question='NA'\n",
        "    print(question)\n",
        "    print('-'*50)\n",
        "\n",
        "    #Answer Response\n",
        "    answer_raw= soup1.find_all('div',{'class':'questions-answer'})[0]#.text\n",
        "    answer= str(answer_raw).replace('<div class=\"questions-answer\">','').replace('<p>','')\\\n",
        "    .replace('</p>','').replace('<br/>','').replace('</div>', '').replace('<div>','')\\\n",
        "    .replace('<span class=\"date-display-single\">','').replace('</span></em>','')\n",
        "    print(answer)\n",
        "    print('-'*50)\n",
        "\n",
        "    #Time of Response\n",
        "    try:\n",
        "      answer_posted_on= soup1.find('span',{'class':'date-display-single'}).text\n",
        "    \n",
        "    except Exception as e:\n",
        "      answer_posted_on= answer.split('This answer was posted on')[1]\n",
        "    print(answer_posted_on)\n",
        "    print('-'*50)\n",
        "    print('-'*50)\n",
        "    print('-'*50)\n",
        "\n",
        "    temp_list=[page_url, thread_url, question, answer, answer_posted_on]\n",
        "    full_list.append(temp_list)\n",
        "\n",
        "\n",
        "df_final = pd.DataFrame(full_list, columns=(\"Page_url\",\"Thread_url\",\"Question\",\"Answer\",\"Answer_posted_on\"))\n",
        "df_final.to_csv('/content/sample_data/csvfinal.csv', index= False)\n"
      ],
      "execution_count": null,
      "outputs": []
    }
  ]
}