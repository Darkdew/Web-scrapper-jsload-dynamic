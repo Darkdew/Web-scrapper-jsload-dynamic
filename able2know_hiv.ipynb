{
  "nbformat": 4,
  "nbformat_minor": 0,
  "metadata": {
    "colab": {
      "name": "able2know_hiv.ipynb",
      "provenance": [],
      "collapsed_sections": []
    },
    "kernelspec": {
      "name": "python3",
      "display_name": "Python 3"
    },
    "language_info": {
      "name": "python"
    }
  },
  "cells": [
    {
      "cell_type": "code",
      "metadata": {
        "id": "PUL1GkwD2C_f"
      },
      "source": [
        "import pandas as pd\n",
        "from bs4 import BeautifulSoup\n",
        "import requests\n",
        "\n",
        "\n",
        "headers = {'User-Agent': 'Mozilla/5.0 (Windows NT 10.0; Win64; x64) AppleWebKit/537.36 (KHTML, like Gecko) Chrome/91.0.4472.77 Safari/537.36'}\n",
        "\n"
      ],
      "execution_count": 1,
      "outputs": []
    },
    {
      "cell_type": "code",
      "metadata": {
        "id": "qS_F7e0f2S8z"
      },
      "source": [
        "full_list = []\n",
        "\n",
        "for i in range(1,10):\n",
        "  page_url = 'https://able2know.org/forum/hiv/'+ 'page-' + str(i)\n",
        "  print(page_url)\n",
        "  r = requests.get(page_url, headers = headers)\n",
        "  soup = BeautifulSoup(r.text, 'html.parser')\n",
        "\n",
        "  threads_on_page = soup.find_all('div',{'style':'overflow:hidden;'})#[0].text\n",
        "#len(threads)\n",
        "  print(len(threads_on_page))\n",
        "\n",
        "  ##looping on threads\n",
        "  for j in range(len(threads_on_page)):\n",
        "    temp_list=[]\n",
        "    thread_specifc_url= threads_on_page[j].find('a')['href']\n",
        "    print(thread_specifc_url)\n",
        "    r1 = requests.get(thread_specifc_url, headers = headers)\n",
        "    soup1 = BeautifulSoup(r1.text, 'html.parser')\n",
        "\n",
        "    #username\n",
        "    username= soup1.find_all('div',{'class':'header'})[0].find('a').text\n",
        "    print(username)\n",
        "    #user_url\n",
        "    user_url= soup1.find_all('div',{'class':'header'})[0].find('a')['href']\n",
        "    print(user_url)\n",
        "\n",
        "    r2 = requests.get(user_url, headers = headers)\n",
        "    soup2 = BeautifulSoup(r2.text, 'html.parser')\n",
        "    \n",
        "    #user join date\n",
        "    join_date= soup2.find(('div'),{'class':'smalltxt'}).text\n",
        "    \n",
        "    #userProfilepage\n",
        "    profile_stats= soup2.find_all('div',{'style':'height:357px;'})[0].find_all('li')\n",
        "\n",
        "    \n",
        "\n",
        "    #profile stats- basic\n",
        "    total_answered_questions= profile_stats[0].text.split(':')[1]\n",
        "    total_posts= profile_stats[1].text.split(':')[1]\n",
        "    location= profile_stats[2].text.split(':')[1]\n",
        "    occupation = (profile_stats[3].text.split(':'))[1]\n",
        "\n",
        "    #profile stats- additional\n",
        "    profile_follow_stats= soup2.find_all('div')\n",
        "\n",
        "    profile_data= profile_follow_stats[16].text\n",
        "\n",
        "    following_follower_list=profile_follow_stats[17].text.replace('\\n','').replace('\\t','').replace('Following ','').replace('Followers ','').split('\\r')\n",
        "    #following_follower_list\n",
        "\n",
        "    try:\n",
        "      following= following_follower_list[1]\n",
        "    except Exception as e:\n",
        "      following= \"Is following some people. \"+ \"URL= \"+ user_url\n",
        "\n",
        "    try:\n",
        "      followers= following_follower_list[2]\n",
        "    except Exception as e:\n",
        "      followers= \"Is followed by some people. \"+ \"URL= \"+ user_url\n",
        "    #tags-list\n",
        "    my_tags=soup2.find_all('div',{'class':'wrapper mainWrapper'})[0].find_all('a')#.text#['href']\n",
        "    \n",
        "\n",
        "    tags_list=[]\n",
        "    for items in my_tags:\n",
        "      fullstring = str(items)\n",
        "      substring = \"tags\"\n",
        "      if fullstring.find(substring) != -1:\n",
        "        splitted_list= fullstring.split('>')\n",
        "        #print(splitted_list)\n",
        "        tags_list.append(splitted_list[1].replace('</a',''))\n",
        "\n",
        "    #total_count_of_available_replies\n",
        "    recent_posts= soup2.find_all('div',{'class':'title'})\n",
        "    total_count_of_available_replies= len(recent_posts)\n",
        "    print('total_count_of_available_replies', total_count_of_available_replies)\n",
        "    \n",
        "    \n",
        "    \n",
        "        \n",
        "    temp_list=[username, user_url, join_date, tags_list, total_answered_questions, total_posts , location , occupation , profile_data, following, followers, total_count_of_available_replies]\n",
        "    full_list.append(temp_list)\n",
        "        \n",
        "df = pd.DataFrame(full_list,columns=(\"Profile Name\",\"Profile URL\", \"Join Date\", \"Groups tagged in\",\"total_answered_questions\",\"total_posts \", \"Location\",\"Occupation\",\"Profile Data\", \"Following\", \"Followers\", \"total_available_responses\"))\n",
        "    \n",
        "\n",
        "    \n",
        "\n",
        "pd.set_option(\"max_colwidth\",None)\n",
        "\n"
      ],
      "execution_count": null,
      "outputs": []
    },
    {
      "cell_type": "code",
      "metadata": {
        "id": "EyBPHkiubsuA"
      },
      "source": [
        "df.to_csv('profile_extract_part1_SA_hiv.csv', index=False)"
      ],
      "execution_count": 4,
      "outputs": []
    },
    {
      "cell_type": "code",
      "metadata": {
        "colab": {
          "base_uri": "https://localhost:8080/",
          "height": 548
        },
        "id": "gsTOaaXdcAAZ",
        "outputId": "08a01afd-a266-42e4-a06b-a8b0d782999d"
      },
      "source": [
        "df.head()"
      ],
      "execution_count": 5,
      "outputs": [
        {
          "output_type": "execute_result",
          "data": {
            "text/html": [
              "<div>\n",
              "<style scoped>\n",
              "    .dataframe tbody tr th:only-of-type {\n",
              "        vertical-align: middle;\n",
              "    }\n",
              "\n",
              "    .dataframe tbody tr th {\n",
              "        vertical-align: top;\n",
              "    }\n",
              "\n",
              "    .dataframe thead th {\n",
              "        text-align: right;\n",
              "    }\n",
              "</style>\n",
              "<table border=\"1\" class=\"dataframe\">\n",
              "  <thead>\n",
              "    <tr style=\"text-align: right;\">\n",
              "      <th></th>\n",
              "      <th>Profile Name</th>\n",
              "      <th>Profile URL</th>\n",
              "      <th>Join Date</th>\n",
              "      <th>Groups tagged in</th>\n",
              "      <th>total_answered_questions</th>\n",
              "      <th>total_posts</th>\n",
              "      <th>Location</th>\n",
              "      <th>Occupation</th>\n",
              "      <th>Profile Data</th>\n",
              "      <th>Following</th>\n",
              "      <th>Followers</th>\n",
              "      <th>total_available_responses</th>\n",
              "    </tr>\n",
              "  </thead>\n",
              "  <tbody>\n",
              "    <tr>\n",
              "      <th>0</th>\n",
              "      <td>justaskin</td>\n",
              "      <td>https://able2know.org/user/justaskin/</td>\n",
              "      <td>Member since  August 26, 2020</td>\n",
              "      <td>[Hiv]</td>\n",
              "      <td>0</td>\n",
              "      <td>3</td>\n",
              "      <td></td>\n",
              "      <td></td>\n",
              "      <td>No Profile</td>\n",
              "      <td>User has not yet added friends.</td>\n",
              "      <td>User does not yet have followers.</td>\n",
              "      <td>3</td>\n",
              "    </tr>\n",
              "    <tr>\n",
              "      <th>1</th>\n",
              "      <td>Khorospoos</td>\n",
              "      <td>https://able2know.org/user/khorospoos/</td>\n",
              "      <td>Member since  April 19, 2020</td>\n",
              "      <td>[Hiv, Drug Resistance]</td>\n",
              "      <td>0</td>\n",
              "      <td>1</td>\n",
              "      <td></td>\n",
              "      <td></td>\n",
              "      <td>No Profile</td>\n",
              "      <td>User has not yet added friends.</td>\n",
              "      <td>User does not yet have followers.</td>\n",
              "      <td>1</td>\n",
              "    </tr>\n",
              "    <tr>\n",
              "      <th>2</th>\n",
              "      <td>Feainn</td>\n",
              "      <td>https://able2know.org/user/feainn/</td>\n",
              "      <td>Member since  April 17, 2020</td>\n",
              "      <td>[Health, Hiv]</td>\n",
              "      <td>0</td>\n",
              "      <td>1</td>\n",
              "      <td></td>\n",
              "      <td></td>\n",
              "      <td>No Profile</td>\n",
              "      <td>User has not yet added friends.</td>\n",
              "      <td>User does not yet have followers.</td>\n",
              "      <td>1</td>\n",
              "    </tr>\n",
              "    <tr>\n",
              "      <th>3</th>\n",
              "      <td>Guy01</td>\n",
              "      <td>https://able2know.org/user/guy01/</td>\n",
              "      <td>Member since  November 12, 2019</td>\n",
              "      <td>[Semen, Vagina Fluid, Condom Lube, Slip, Sex, Hiv, Condom]</td>\n",
              "      <td>0</td>\n",
              "      <td>1</td>\n",
              "      <td></td>\n",
              "      <td></td>\n",
              "      <td>No Profile</td>\n",
              "      <td>User has not yet added friends.</td>\n",
              "      <td>User does not yet have followers.</td>\n",
              "      <td>1</td>\n",
              "    </tr>\n",
              "    <tr>\n",
              "      <th>4</th>\n",
              "      <td>Dda79</td>\n",
              "      <td>https://able2know.org/user/dda79/</td>\n",
              "      <td>Member since  July  5, 2019</td>\n",
              "      <td>[Hiv]</td>\n",
              "      <td>0</td>\n",
              "      <td>1</td>\n",
              "      <td></td>\n",
              "      <td></td>\n",
              "      <td>No Profile</td>\n",
              "      <td>User has not yet added friends.</td>\n",
              "      <td>User does not yet have followers.</td>\n",
              "      <td>1</td>\n",
              "    </tr>\n",
              "  </tbody>\n",
              "</table>\n",
              "</div>"
            ],
            "text/plain": [
              "  Profile Name  ... total_available_responses\n",
              "0    justaskin  ...                         3\n",
              "1   Khorospoos  ...                         1\n",
              "2       Feainn  ...                         1\n",
              "3        Guy01  ...                         1\n",
              "4        Dda79  ...                         1\n",
              "\n",
              "[5 rows x 12 columns]"
            ]
          },
          "metadata": {
            "tags": []
          },
          "execution_count": 5
        }
      ]
    },
    {
      "cell_type": "code",
      "metadata": {
        "colab": {
          "base_uri": "https://localhost:8080/"
        },
        "id": "ikyx-ZoWnBiv",
        "outputId": "69fe1467-d68f-4a1e-ef83-8dae4a1242f2"
      },
      "source": [
        "df.shape"
      ],
      "execution_count": 16,
      "outputs": [
        {
          "output_type": "execute_result",
          "data": {
            "text/plain": [
              "(44, 12)"
            ]
          },
          "metadata": {
            "tags": []
          },
          "execution_count": 16
        }
      ]
    },
    {
      "cell_type": "code",
      "metadata": {
        "id": "S2hnqaUlcHtP"
      },
      "source": [
        "\n",
        "full_final_list=[]\n",
        "for index, row in df.iterrows():\n",
        "    temp_list1 =[]\n",
        "\n",
        "    if int(row['total_available_responses'])==0:\n",
        "      \n",
        "      post_url= 'NA'\n",
        "      response_text= 'NA'\n",
        "      response_time='NA'\n",
        "      temp_list1=[row[\"Profile Name\"], row[\"Profile URL\"], row[\"Join Date\"], row[\"Groups tagged in\"], row[\"total_answered_questions\"], row[\"total_posts\"], row[\"Location\"], row[\"Occupation\"], row[\"Profile Data\"], row[\"Following\"], row[\"Followers\"],row[\"total_available_responses\"],reply_url, response_text, response_time]\n",
        "      full_final_list.append(temp_list1)\n",
        "    \n",
        "    else:\n",
        "      user_url= row[\"Profile URL\"]\n",
        "      \n",
        "      r3 = requests.get(user_url, headers = headers)\n",
        "      soup3 = BeautifulSoup(r3.text, 'html.parser')\n",
        "      \n",
        "      #total_count_of_available_replies\n",
        "      recent_posts= soup3.find_all('div',{'class':'title'})\n",
        "      total_count_of_available_replies= len(recent_posts)\n",
        "\n",
        "      for k in range(len(recent_posts)):\n",
        "        post_url= recent_posts[k].find('a')['href']\n",
        "        print(post_url)\n",
        "        r4 = requests.get(post_url, headers = headers)\n",
        "        soup4 = BeautifulSoup(r4.text, 'html.parser')\n",
        "\n",
        "        div_id= post_url.split('#')[1] + '-' + 'body' \n",
        "        response_text= soup4.find_all('div',{'id':div_id})[0].text.replace('\\n','').replace('\\t','')\n",
        "\n",
        "        #response_time\n",
        "        post_id= post_url.split('#')[1]\n",
        "\n",
        "        try:\n",
        "          response_time= soup4.find_all('div',{'id':post_id})[0].find('span', {'class': 'date smalltxt'}).text\n",
        "\n",
        "        except Exception as e:\n",
        "          response_time= 'NA'\n",
        "        temp_list1= temp_list1=[row[\"Profile Name\"], row[\"Profile URL\"], row[\"Join Date\"], row[\"Groups tagged in\"], row[\"total_answered_questions\"], row[\"total_posts \"], row[\"Location\"], row[\"Occupation\"], row[\"Profile Data\"], row[\"Following\"], row[\"Followers\"],row[\"total_available_responses\"], post_url, response_text, response_time]\n",
        "        full_final_list.append(temp_list1)\n",
        "\n"
      ],
      "execution_count": null,
      "outputs": []
    },
    {
      "cell_type": "code",
      "metadata": {
        "id": "P_hZeztBncBf"
      },
      "source": [
        "df_final = pd.DataFrame(full_final_list,columns=(\"Profile Name\",\"Profile URL\", \"Join Date\", \"Groups tagged in\",\"total_answered_questions\",\"total_posts \", \"Location\",\"Occupation\",\"Profile Data\", \"Following\", \"Followers\", \"total_available_responses\", \"specific_reply_url\", \"response_text\",\"response_time\"))"
      ],
      "execution_count": 19,
      "outputs": []
    },
    {
      "cell_type": "code",
      "metadata": {
        "colab": {
          "base_uri": "https://localhost:8080/"
        },
        "id": "xFERAqPmm5NA",
        "outputId": "49291e98-2928-4b29-b8f6-dd1ebdf0709f"
      },
      "source": [
        "df_final.shape"
      ],
      "execution_count": 20,
      "outputs": [
        {
          "output_type": "execute_result",
          "data": {
            "text/plain": [
              "(240, 15)"
            ]
          },
          "metadata": {
            "tags": []
          },
          "execution_count": 20
        }
      ]
    },
    {
      "cell_type": "code",
      "metadata": {
        "id": "1J5mLtYjnpg2"
      },
      "source": [
        "df_final.to_csv('profile_extract_SA_hiv.csv', index= False)"
      ],
      "execution_count": 21,
      "outputs": []
    },
    {
      "cell_type": "code",
      "metadata": {
        "id": "Ti_x9EXX2otr"
      },
      "source": [
        "#thread_specifc_url= threads[0].find('a')['href']"
      ],
      "execution_count": null,
      "outputs": []
    },
    {
      "cell_type": "code",
      "metadata": {
        "id": "ev2D3Yzy25-x"
      },
      "source": [
        "# r1 = requests.get(thread_specifc_url, headers = headers)\n",
        "# soup1 = BeautifulSoup(r1.text, 'html.parser')"
      ],
      "execution_count": null,
      "outputs": []
    },
    {
      "cell_type": "code",
      "metadata": {
        "colab": {
          "base_uri": "https://localhost:8080/",
          "height": 35
        },
        "id": "Wi026C_k57DK",
        "outputId": "42661fc4-fb7d-4363-a1ea-af20b0455bf5"
      },
      "source": [
        "#username= soup1.find_all('div',{'class':'header'})[0].find('a').text#['href']\n",
        "username"
      ],
      "execution_count": null,
      "outputs": [
        {
          "output_type": "execute_result",
          "data": {
            "application/vnd.google.colaboratory.intrinsic+json": {
              "type": "string"
            },
            "text/plain": [
              "'justaskin'"
            ]
          },
          "metadata": {
            "tags": []
          },
          "execution_count": 26
        }
      ]
    },
    {
      "cell_type": "code",
      "metadata": {
        "id": "tG0k0lFI3ZRF"
      },
      "source": [
        "#user_url= soup1.find_all('div',{'class':'header'})[0].find('a')['href']"
      ],
      "execution_count": null,
      "outputs": []
    },
    {
      "cell_type": "code",
      "metadata": {
        "colab": {
          "base_uri": "https://localhost:8080/",
          "height": 35
        },
        "id": "hfRqsRqH3-5y",
        "outputId": "79d4d4c4-21fc-4e85-9984-ba263bea252c"
      },
      "source": [
        "#user_url"
      ],
      "execution_count": null,
      "outputs": [
        {
          "output_type": "execute_result",
          "data": {
            "application/vnd.google.colaboratory.intrinsic+json": {
              "type": "string"
            },
            "text/plain": [
              "'https://able2know.org/user/justaskin/'"
            ]
          },
          "metadata": {
            "tags": []
          },
          "execution_count": 24
        }
      ]
    },
    {
      "cell_type": "code",
      "metadata": {
        "id": "b32gQ7cs4tWa"
      },
      "source": [
        "# r2 = requests.get(user_url, headers = headers)\n",
        "# soup2 = BeautifulSoup(r2.text, 'html.parser')"
      ],
      "execution_count": null,
      "outputs": []
    },
    {
      "cell_type": "code",
      "metadata": {
        "colab": {
          "base_uri": "https://localhost:8080/"
        },
        "id": "-LlEO3R55LyS",
        "outputId": "ee8e9523-1f28-4b04-fe17-2d4839a1be4f"
      },
      "source": [
        "#userProfilepage\n",
        "\n",
        "#profile_stats= soup2.find_all('div',{'style':'height:357px;'})[0].find_all('li')#[0]#.find('a')['href']\n",
        "#profile_stats"
      ],
      "execution_count": null,
      "outputs": [
        {
          "output_type": "execute_result",
          "data": {
            "text/plain": [
              "[<li><b>Answered Questions:</b> 0</li>,\n",
              " <li><b>Posts:</b> 3</li>,\n",
              " <li><b>Location:</b> </li>,\n",
              " <li><b>Occupation:</b> </li>]"
            ]
          },
          "metadata": {
            "tags": []
          },
          "execution_count": 33
        }
      ]
    },
    {
      "cell_type": "code",
      "metadata": {
        "id": "OoZ-H47M7Pib"
      },
      "source": [
        "\n",
        "# total_answered_questions= profile_stats[0].text.split(':')[1]\n",
        "# total_posts= profile_stats[1].text.split(':')[1]\n",
        "# location= profile_stats[2].text.split(':')[1]\n",
        "# occupation = (profile_stats[3].text.split(':'))[1]\n"
      ],
      "execution_count": null,
      "outputs": []
    },
    {
      "cell_type": "code",
      "metadata": {
        "colab": {
          "base_uri": "https://localhost:8080/",
          "height": 35
        },
        "id": "e5JG5FIe8Cj6",
        "outputId": "88af7b06-3e1d-47bf-f45a-6318d2959b6e"
      },
      "source": [
        "# total_answered_questions\n",
        "# #total_posts\n",
        "# #location\n",
        "# #occupation"
      ],
      "execution_count": null,
      "outputs": [
        {
          "output_type": "execute_result",
          "data": {
            "application/vnd.google.colaboratory.intrinsic+json": {
              "type": "string"
            },
            "text/plain": [
              "' 0'"
            ]
          },
          "metadata": {
            "tags": []
          },
          "execution_count": 56
        }
      ]
    },
    {
      "cell_type": "code",
      "metadata": {
        "colab": {
          "base_uri": "https://localhost:8080/"
        },
        "id": "_AGIER_19tt6",
        "outputId": "76982b75-8482-44e4-ef66-cc8082633e5d"
      },
      "source": [
        "profile_follow_stats= soup2.find_all('div')#,{'class':'dividerText margin'})#[0]\n",
        "len(profile_follow_stats)"
      ],
      "execution_count": null,
      "outputs": [
        {
          "output_type": "execute_result",
          "data": {
            "text/plain": [
              "50"
            ]
          },
          "metadata": {
            "tags": []
          },
          "execution_count": 77
        }
      ]
    },
    {
      "cell_type": "code",
      "metadata": {
        "colab": {
          "base_uri": "https://localhost:8080/",
          "height": 35
        },
        "id": "wMcbYB1cIIaS",
        "outputId": "0a14ec5b-ef97-4c65-c666-be97a48d5672"
      },
      "source": [
        "#profile_data= profile_follow_stats[16].text#.find('div')#.text\n",
        "#profile_data\n",
        "\n"
      ],
      "execution_count": null,
      "outputs": [
        {
          "output_type": "execute_result",
          "data": {
            "application/vnd.google.colaboratory.intrinsic+json": {
              "type": "string"
            },
            "text/plain": [
              "'No Profile'"
            ]
          },
          "metadata": {
            "tags": []
          },
          "execution_count": 92
        }
      ]
    },
    {
      "cell_type": "code",
      "metadata": {
        "id": "Hyvw1fUfIygg"
      },
      "source": [
        "# following_follower_list=profile_follow_stats[17].text.replace('\\n','').replace('\\t','').replace('Following ','').replace('Followers ','').split('\\r')\n",
        "# following_follower_list\n",
        "\n",
        "# following= following_follower_list[1]\n",
        "# follower= following_follower_list[2]"
      ],
      "execution_count": null,
      "outputs": []
    },
    {
      "cell_type": "code",
      "metadata": {
        "id": "pk6hzA7oMPnF"
      },
      "source": [
        ""
      ],
      "execution_count": null,
      "outputs": []
    },
    {
      "cell_type": "code",
      "metadata": {
        "id": "xMTr4XyDMPkA"
      },
      "source": [
        ""
      ],
      "execution_count": null,
      "outputs": []
    },
    {
      "cell_type": "code",
      "metadata": {
        "colab": {
          "base_uri": "https://localhost:8080/",
          "height": 35
        },
        "id": "iBuINu9h9dMs",
        "outputId": "9e14d347-9e3f-4a18-f52c-44e1616f0be6"
      },
      "source": [
        "following"
      ],
      "execution_count": null,
      "outputs": [
        {
          "output_type": "execute_result",
          "data": {
            "application/vnd.google.colaboratory.intrinsic+json": {
              "type": "string"
            },
            "text/plain": [
              "'User has not yet added friends.'"
            ]
          },
          "metadata": {
            "tags": []
          },
          "execution_count": 104
        }
      ]
    },
    {
      "cell_type": "code",
      "metadata": {
        "id": "Vn_HuXawTpVb"
      },
      "source": [
        ""
      ],
      "execution_count": null,
      "outputs": []
    },
    {
      "cell_type": "code",
      "metadata": {
        "id": "I2utucSNTpSI"
      },
      "source": [
        ""
      ],
      "execution_count": null,
      "outputs": []
    },
    {
      "cell_type": "code",
      "metadata": {
        "colab": {
          "base_uri": "https://localhost:8080/"
        },
        "id": "RzpVv8WFMMma",
        "outputId": "5963091c-75d8-4f7b-9f64-f8adfc4bf4a9"
      },
      "source": [
        "# my_tags=soup2.find_all('div',{'class':'wrapper mainWrapper'})[0].find_all('a')#.text#['href']\n",
        "# len(my_tags)\n",
        "# my_tags[3].text\n",
        "\n",
        "# tags_list=[]\n",
        "# for items in my_tags:\n",
        "#   fullstring = str(items)\n",
        "#   substring = \"tags\"\n",
        "#   if fullstring.find(substring) != -1:\n",
        "#     splitted_list= fullstring.split('>')\n",
        "#     print(splitted_list)\n",
        "#     tags_list.append(splitted_list[1].replace('</a',''))\n",
        "\n"
      ],
      "execution_count": null,
      "outputs": [
        {
          "output_type": "stream",
          "text": [
            "['<a href=\"https://able2know.org/user/justaskin/tags/hiv/\"', 'Hiv</a', '']\n"
          ],
          "name": "stdout"
        }
      ]
    },
    {
      "cell_type": "code",
      "metadata": {
        "colab": {
          "base_uri": "https://localhost:8080/"
        },
        "id": "fR9udialAWDj",
        "outputId": "c7bda37d-92e6-4f65-d1cf-30babf31a556"
      },
      "source": [
        "tags_list"
      ],
      "execution_count": null,
      "outputs": [
        {
          "output_type": "execute_result",
          "data": {
            "text/plain": [
              "['Hiv']"
            ]
          },
          "metadata": {
            "tags": []
          },
          "execution_count": 117
        }
      ]
    },
    {
      "cell_type": "code",
      "metadata": {
        "colab": {
          "base_uri": "https://localhost:8080/"
        },
        "id": "guv2wwPQAWAi",
        "outputId": "e4a849f3-8c35-4c77-ffd6-78f6cfb2a5a1"
      },
      "source": [
        "# recent_posts= soup2.find_all('div',{'class':'title'})\n",
        "# recent_posts"
      ],
      "execution_count": null,
      "outputs": [
        {
          "output_type": "execute_result",
          "data": {
            "text/plain": [
              "[<div class=\"title\"><b><a href=\"https://able2know.org/topic/551459-1#post-7051767\">Paranoia and protected sex</a></b></div>,\n",
              " <div class=\"title\"><b><a href=\"https://able2know.org/topic/551459-1#post-7051753\">Paranoia and protected sex</a></b></div>,\n",
              " <div class=\"title\"><b><a href=\"https://able2know.org/topic/551459-1#post-7051732\">Paranoia and protected sex</a></b></div>]"
            ]
          },
          "metadata": {
            "tags": []
          },
          "execution_count": 61
        }
      ]
    },
    {
      "cell_type": "code",
      "metadata": {
        "colab": {
          "base_uri": "https://localhost:8080/"
        },
        "id": "o8EJOFIe_1lM",
        "outputId": "ae2aa113-bc3c-42db-fb22-9f78925b25fc"
      },
      "source": [
        "recent_posts[0].find('a')['href'].split('#')"
      ],
      "execution_count": null,
      "outputs": [
        {
          "output_type": "execute_result",
          "data": {
            "text/plain": [
              "['https://able2know.org/topic/551459-1', 'post-7051767']"
            ]
          },
          "metadata": {
            "tags": []
          },
          "execution_count": 72
        }
      ]
    },
    {
      "cell_type": "code",
      "metadata": {
        "colab": {
          "base_uri": "https://localhost:8080/"
        },
        "id": "bJmWPVuw_1ic",
        "outputId": "26198f0b-93b7-4cbf-8826-f239a579fc90"
      },
      "source": [
        "\n",
        "for k in range(len(recent_posts)):\n",
        "  post_url= recent_posts[k].find('a')['href']\n",
        "  r3 = requests.get(post_url, headers = headers)\n",
        "  soup3 = BeautifulSoup(r3.text, 'html.parser')\n",
        "\n",
        "  div_id= post_url.split('#')[1] + '-' + 'body' \n",
        "  response_text= soup3.find_all('div',{'id':div_id})[0].text.replace('\\n','').replace('\\t','')\n",
        "\n",
        "  #response_time\n",
        "  post_id= post_url.split('#')[1]\n",
        "  response_time= soup3.find_all('div',{'id':post_id})[0].find('span', {'class': 'date smalltxt'}).text\n",
        "  print(response_time) \n",
        "  print(response_text)\n",
        "  print(\"=\"*100)"
      ],
      "execution_count": null,
      "outputs": [
        {
          "output_type": "stream",
          "text": [
            "\n",
            "\t\t\t\t\t\t\tWed 26 Aug, 2020 08:03 am\n",
            "\t\t\t\t\t\t\n",
            "@PUNKEY,I never have sex without protection, in fact barely at all. No same sex encounters Im hetero. No anal never.No oral either just vaginal with con. This particular was one time encounter. She seems to follow safe sex rules requesting condom at all times. I was not even full length inside her at any times and that outer part briefly touched that 2mm skin damaged part on my finger.I could find her though and ask but my doc think Im overreacting. \n",
            "====================================================================================================\n",
            "\n",
            "\t\t\t\t\t\t\tWed 26 Aug, 2020 07:31 am\n",
            "\t\t\t\t\t\t\n",
            "@maxdancona,Hi,thanks for the thoughts.Actually I took the test today to be sure that prior to this intercourse I am clean. Surely will take another one in 2-3 months time just to evaluate this intercourse as well.Its just that I hate taking risks.There is PEP those are to be taken some time after problematic intercourse have a lookhttps://www.cdc.gov/hiv/basics/pep.htmlbut my doctor thinks I am unserious with this whole issue.\n",
            "====================================================================================================\n",
            "\n",
            "\t\t\t\t\t\t\tWed 26 Aug, 2020 06:13 am\n",
            "\t\t\t\t\t\t\n",
            "Hi,I had a protected sex last night. The issue that I am concerned with is that while taking off condom I touched a tiny scar on my finger where i bite off the skin (size maybe 2mm wide). There was no blood there but outer layer of the skin were gone and I touched that part while taking off condom. The area of the condom was not inside the vagina. I don't know the health status of the another person.I tested negative today to HIV but my conscience now plays with me telling me there is a tiny possibility that person has a HIV (condition1) and that I touched my scar with the part of the condom that was inside vagina (condition2) and that the touch was enough to transmit (c.3).Now I know that there exist post sex 24/48 hrs pills that should protect against infection if taken till 48 hrs after intercourse but I am not sure should I proceed with that.What do u guys and gals think? Thx in advance\n",
            "====================================================================================================\n"
          ],
          "name": "stdout"
        }
      ]
    }
  ]
}