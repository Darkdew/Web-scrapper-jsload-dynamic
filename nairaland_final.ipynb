{
  "nbformat": 4,
  "nbformat_minor": 0,
  "metadata": {
    "colab": {
      "name": "nairaland.ipynb",
      "provenance": [],
      "collapsed_sections": []
    },
    "kernelspec": {
      "name": "python3",
      "display_name": "Python 3"
    },
    "language_info": {
      "name": "python"
    }
  },
  "cells": [
    {
      "cell_type": "code",
      "metadata": {
        "id": "Qnh37MQY-oGm"
      },
      "source": [
        "import pandas as pd\n",
        "from bs4 import BeautifulSoup\n",
        "import requests\n",
        "\n",
        "url = 'https://www.nairaland.com/search?q=Chlamydia&search=Search'\n",
        "headers = {'User-Agent': 'Mozilla/5.0 (Windows NT 10.0; Win64; x64) AppleWebKit/537.36 (KHTML, like Gecko) Chrome/91.0.4472.77 Safari/537.36'}\n",
        "r = requests.get(url, headers = headers)\n",
        "soup = BeautifulSoup(r.text, 'html.parser')\n"
      ],
      "execution_count": 2,
      "outputs": []
    },
    {
      "cell_type": "code",
      "metadata": {
        "id": "2wF8wfnpe9CV"
      },
      "source": [
        "full_list = []\n",
        "\n",
        "for i in range(20):\n",
        "  page_url = 'https://www.nairaland.com/search/chlamydia/0/0/0/'+ str(i)\n",
        "  print(page_url)\n",
        "  r = requests.get(page_url, headers = headers)\n",
        "  soup = BeautifulSoup(r.text, 'html.parser')\n",
        "\n",
        "  threads_on_page = soup.find_all('a',{'class':'user'})#[0].text\n",
        "  print(len(threads_on_page))\n",
        "\n",
        "  for j in range(len(threads_on_page)):\n",
        "    temp_list=[]\n",
        "    #username\n",
        "    username = soup.find_all('a',{'class':'user'})[j].text\n",
        "    print(username)\n",
        "    \n",
        "    #userURL\n",
        "    userURL= 'https://www.nairaland.com/'+username\n",
        "    print(userURL)\n",
        "\n",
        "    r1 = requests.get(userURL, headers = headers)\n",
        "    soup1 = BeautifulSoup(r1.text, 'html.parser')\n",
        "    # thread_specifc_url= threads_on_page[j].find('a')['href']\n",
        "    # print(thread_specifc_url)\n",
        "    # r1 = requests.get(thread_specifc_url, headers = headers)\n",
        "    # soup1 = BeautifulSoup(r1.text, 'html.parser')\n",
        "\n",
        "    type = soup1.find_all('table')#[0].find_all('a')#{'class':'w'})#[0].text\n",
        "    print(type)\n",
        "    l= len(type)\n",
        "\n",
        "    #profile_infor\n",
        "    try:\n",
        "      profile_infor= soup1.find_all('table')[l-3].find_all('p')#, \"position\" == 2)\n",
        "      Personal_data_list= str(profile_infor[0]).replace('<p><b>', '||').replace('</b>', \"\").replace('<b>', '').replace('<p>', '||').split('||')\n",
        "\n",
        "      #total_posts\n",
        "      total_posts= (str(Personal_data_list[-1]).split('posts')[-1].split('<')[0]).replace('(','').replace(')','')\n",
        "\n",
        "      temp_list=[username, userURL, Personal_data_list, total_posts]\n",
        "      full_list.append(temp_list)\n",
        "    except Exception as e:\n",
        "      profile_infor= soup1.find_all('table')[l-2].find_all('p')#, \"position\" == 2)\n",
        "      \n",
        "      print('='*100)\n",
        "      print(profile_infor)\n",
        "      print('='*100)\n",
        "      print(profile_infor[0])\n",
        "      Personal_data_list= str(profile_infor[0]).replace('<p><b>', '||').replace('</b>', \"\").replace('<b>', '').replace('<p>', '||').split('||')\n",
        "\n",
        "      #total_posts\n",
        "      total_posts= (str(Personal_data_list[-1]).split('posts')[-1].split('<')[0]).replace('(','').replace(')','')\n",
        "      #available_responses=int(row['total_available_responses'].replace('(','').replace(')',''))\n",
        "    temp_list=[username, userURL, Personal_data_list, total_posts]\n",
        "    full_list.append(temp_list)\n",
        "\n",
        "df = pd.DataFrame(full_list,columns=(\"Profile Name\",\"Profile URL\", \"Personal_data\", \"total_posts\"))"
      ],
      "execution_count": null,
      "outputs": []
    },
    {
      "cell_type": "code",
      "metadata": {
        "colab": {
          "base_uri": "https://localhost:8080/"
        },
        "id": "04_JwEMHDrEq",
        "outputId": "d6218023-f268-4e69-a0cc-988441f2f1b7"
      },
      "source": [
        "df.shape"
      ],
      "execution_count": 31,
      "outputs": [
        {
          "output_type": "execute_result",
          "data": {
            "text/plain": [
              "(683, 4)"
            ]
          },
          "metadata": {
            "tags": []
          },
          "execution_count": 31
        }
      ]
    },
    {
      "cell_type": "code",
      "metadata": {
        "colab": {
          "base_uri": "https://localhost:8080/",
          "height": 515
        },
        "id": "MhmZcQyNEYGg",
        "outputId": "a594365c-2dfa-4625-de2e-3aa312872169"
      },
      "source": [
        "df.head(15)"
      ],
      "execution_count": 33,
      "outputs": [
        {
          "output_type": "execute_result",
          "data": {
            "text/html": [
              "<div>\n",
              "<style scoped>\n",
              "    .dataframe tbody tr th:only-of-type {\n",
              "        vertical-align: middle;\n",
              "    }\n",
              "\n",
              "    .dataframe tbody tr th {\n",
              "        vertical-align: top;\n",
              "    }\n",
              "\n",
              "    .dataframe thead th {\n",
              "        text-align: right;\n",
              "    }\n",
              "</style>\n",
              "<table border=\"1\" class=\"dataframe\">\n",
              "  <thead>\n",
              "    <tr style=\"text-align: right;\">\n",
              "      <th></th>\n",
              "      <th>Profile Name</th>\n",
              "      <th>Profile URL</th>\n",
              "      <th>Personal_data</th>\n",
              "      <th>total_posts</th>\n",
              "    </tr>\n",
              "  </thead>\n",
              "  <tbody>\n",
              "    <tr>\n",
              "      <th>0</th>\n",
              "      <td>Faller</td>\n",
              "      <td>https://www.nairaland.com/Faller</td>\n",
              "      <td>[, Location: London, Time registered: August 2...</td>\n",
              "      <td>672</td>\n",
              "    </tr>\n",
              "    <tr>\n",
              "      <th>1</th>\n",
              "      <td>Faller</td>\n",
              "      <td>https://www.nairaland.com/Faller</td>\n",
              "      <td>[, Location: London, Time registered: August 2...</td>\n",
              "      <td>672</td>\n",
              "    </tr>\n",
              "    <tr>\n",
              "      <th>2</th>\n",
              "      <td>idrisaa951</td>\n",
              "      <td>https://www.nairaland.com/idrisaa951</td>\n",
              "      <td>[, Personal text: Be Kind, Gender: m, Location...</td>\n",
              "      <td>5</td>\n",
              "    </tr>\n",
              "    <tr>\n",
              "      <th>3</th>\n",
              "      <td>MIsurgical</td>\n",
              "      <td>https://www.nairaland.com/MIsurgical</td>\n",
              "      <td>[, Personal text: Minimal Access Surgery, Gend...</td>\n",
              "      <td>436</td>\n",
              "    </tr>\n",
              "    <tr>\n",
              "      <th>4</th>\n",
              "      <td>unclejoe2018</td>\n",
              "      <td>https://www.nairaland.com/unclejoe2018</td>\n",
              "      <td>[, Personal text: Green Remedies Internation i...</td>\n",
              "      <td>37</td>\n",
              "    </tr>\n",
              "    <tr>\n",
              "      <th>5</th>\n",
              "      <td>Irisbaby</td>\n",
              "      <td>https://www.nairaland.com/Irisbaby</td>\n",
              "      <td>[, Time registered: July 22, 2019, Time spent ...</td>\n",
              "      <td>357</td>\n",
              "    </tr>\n",
              "    <tr>\n",
              "      <th>6</th>\n",
              "      <td>Amandababy2</td>\n",
              "      <td>https://www.nairaland.com/Amandababy2</td>\n",
              "      <td>[, Gender: f, Time registered: July 06, 2019, ...</td>\n",
              "      <td>376</td>\n",
              "    </tr>\n",
              "    <tr>\n",
              "      <th>7</th>\n",
              "      <td>Amandababy2</td>\n",
              "      <td>https://www.nairaland.com/Amandababy2</td>\n",
              "      <td>[, Gender: f, Time registered: July 06, 2019, ...</td>\n",
              "      <td>376</td>\n",
              "    </tr>\n",
              "    <tr>\n",
              "      <th>8</th>\n",
              "      <td>MIsurgical</td>\n",
              "      <td>https://www.nairaland.com/MIsurgical</td>\n",
              "      <td>[, Personal text: Minimal Access Surgery, Gend...</td>\n",
              "      <td>436</td>\n",
              "    </tr>\n",
              "    <tr>\n",
              "      <th>9</th>\n",
              "      <td>Irisbaby</td>\n",
              "      <td>https://www.nairaland.com/Irisbaby</td>\n",
              "      <td>[, Time registered: July 22, 2019, Time spent ...</td>\n",
              "      <td>357</td>\n",
              "    </tr>\n",
              "    <tr>\n",
              "      <th>10</th>\n",
              "      <td>orangeCV</td>\n",
              "      <td>https://www.nairaland.com/orangeCV</td>\n",
              "      <td>[, Time registered: February 11, 2017, Time sp...</td>\n",
              "      <td>90</td>\n",
              "    </tr>\n",
              "    <tr>\n",
              "      <th>11</th>\n",
              "      <td>orangeCV</td>\n",
              "      <td>https://www.nairaland.com/orangeCV</td>\n",
              "      <td>[, Time registered: February 11, 2017, Time sp...</td>\n",
              "      <td>90</td>\n",
              "    </tr>\n",
              "    <tr>\n",
              "      <th>12</th>\n",
              "      <td>joshuaidibia</td>\n",
              "      <td>https://www.nairaland.com/joshuaidibia</td>\n",
              "      <td>[, Personal text: ...Without Wax... Yours Fait...</td>\n",
              "      <td>2174</td>\n",
              "    </tr>\n",
              "    <tr>\n",
              "      <th>13</th>\n",
              "      <td>joshuaidibia</td>\n",
              "      <td>https://www.nairaland.com/joshuaidibia</td>\n",
              "      <td>[, Personal text: ...Without Wax... Yours Fait...</td>\n",
              "      <td>2174</td>\n",
              "    </tr>\n",
              "    <tr>\n",
              "      <th>14</th>\n",
              "      <td>doctorsage</td>\n",
              "      <td>https://www.nairaland.com/doctorsage</td>\n",
              "      <td>[, &lt;form action=\"/search\"&gt; &lt;input name=\"q\" siz...</td>\n",
              "      <td></td>\n",
              "    </tr>\n",
              "  </tbody>\n",
              "</table>\n",
              "</div>"
            ],
            "text/plain": [
              "    Profile Name  ... total_posts\n",
              "0         Faller  ...         672\n",
              "1         Faller  ...         672\n",
              "2     idrisaa951  ...           5\n",
              "3     MIsurgical  ...         436\n",
              "4   unclejoe2018  ...          37\n",
              "5       Irisbaby  ...         357\n",
              "6    Amandababy2  ...         376\n",
              "7    Amandababy2  ...         376\n",
              "8     MIsurgical  ...         436\n",
              "9       Irisbaby  ...         357\n",
              "10      orangeCV  ...          90\n",
              "11      orangeCV  ...          90\n",
              "12  joshuaidibia  ...        2174\n",
              "13  joshuaidibia  ...        2174\n",
              "14    doctorsage  ...            \n",
              "\n",
              "[15 rows x 4 columns]"
            ]
          },
          "metadata": {
            "tags": []
          },
          "execution_count": 33
        }
      ]
    },
    {
      "cell_type": "code",
      "metadata": {
        "colab": {
          "base_uri": "https://localhost:8080/"
        },
        "id": "ZR6pyoO1bQDv",
        "outputId": "b70f2f80-95fb-4e72-c83b-c2ca6c9869ee"
      },
      "source": [
        "df['total_posts'].isnull().values.any()"
      ],
      "execution_count": 39,
      "outputs": [
        {
          "output_type": "execute_result",
          "data": {
            "text/plain": [
              "False"
            ]
          },
          "metadata": {
            "tags": []
          },
          "execution_count": 39
        }
      ]
    },
    {
      "cell_type": "code",
      "metadata": {
        "id": "e1FC1pthD7N_"
      },
      "source": [
        "df.to_csv('profile_extract_part1_Nigeria_hiv_part1.csv', index=False)"
      ],
      "execution_count": 34,
      "outputs": []
    },
    {
      "cell_type": "code",
      "metadata": {
        "id": "hy-R_7WbciVN"
      },
      "source": [
        "df= pd.read_csv('/content/drive/MyDrive/Colab Data/profile_extract_part1_Nigeria_hiv_part1.csv')"
      ],
      "execution_count": 4,
      "outputs": []
    },
    {
      "cell_type": "code",
      "metadata": {
        "id": "GhMOE9p4EKTg"
      },
      "source": [
        "\n",
        "full_final_list=[]\n",
        "for index, row in df.iterrows():\n",
        "    temp_list1 =[]\n",
        "    print(\"***total_posts\", row['total_posts']) \n",
        "    # if row[total_posts] is None:\n",
        "      \n",
        "    # available_responses=int(row['total_posts'])#.replace('(','').replace(')',''))\n",
        "    if row['total_posts'] is None:\n",
        "      post_url= 'NA'\n",
        "      response_text= 'NA'\n",
        "      response_time='NA'\n",
        "      temp_list1=[row[\"Profile Name\"], row[\"Profile URL\"], row[\"Personal_data\"], row[\"total_posts\"], post_url, response_text, response_time]\n",
        "      full_final_list.append(temp_list1)\n",
        "\n",
        "    elif int(row['total_posts'])==0:\n",
        "      \n",
        "      post_url= 'NA'\n",
        "      response_text= 'NA'\n",
        "      response_time='NA'\n",
        "      temp_list1=[row[\"Profile Name\"], row[\"Profile URL\"], row[\"Personal_data\"], row[\"total_posts\"], post_url, response_text, response_time]\n",
        "      full_final_list.append(temp_list1)\n",
        "    \n",
        "    else:\n",
        "      available_responses=int(row['total_posts'])\n",
        "      user_url= row[\"Profile URL\"]\n",
        "      print(user_url)\n",
        "      if available_responses<=30:\n",
        "        z=1\n",
        "      elif available_responses>30 and available_responses<=100:\n",
        "        z=3\n",
        "      elif available_responses>100 and available_responses<=300:\n",
        "        z=10\n",
        "      elif available_responses>300 and available_responses<=600:\n",
        "        z=20\n",
        "      elif available_responses>600:\n",
        "        z=25\n",
        "      #User_posts_url\n",
        "       \n",
        "      for n in range(z):\n",
        "        user_posts_url= user_url+\"/posts/\"+ str(n)\n",
        "        print('**')\n",
        "        print(user_posts_url)\n",
        "        print('**')\n",
        "        r4 = requests.get(user_posts_url, headers = headers)\n",
        "        soup4 = BeautifulSoup(r4.text, 'html.parser')\n",
        "        \n",
        "        #counting responses on current page\n",
        "        responses_on_curr_page = soup4.find_all('div', {'class':\"narrow\"})\n",
        "        print(len(responses_on_curr_page))\n",
        "        for i in range(len(responses_on_curr_page)):\n",
        "          \n",
        "          #response_text\n",
        "          response_text= responses_on_curr_page[i].text\n",
        "\n",
        "          #response_time\n",
        "          response_time_broken=soup4.find_all('span', {'class':\"s\"})[i].find_all('b')\n",
        "          try:\n",
        "            response_time= str(response_time_broken[0]).replace('<b>',\"\").replace('</b>',\"\")+' '+str(response_time_broken[1]).replace('<b>',\"\").replace('</b>',\"\")\n",
        "          except Exception as e:\n",
        "            response_time=response_time_broken\n",
        "          #print(response_time)\n",
        "          #print(\"=\"*100)\n",
        "          temp_list1=[row[\"Profile Name\"], row[\"Profile URL\"], row[\"Personal_data\"], row[\"total_posts\"], user_posts_url, response_text, response_time]\n",
        "          full_final_list.append(temp_list1)\n",
        "\n",
        "df_final = pd.DataFrame(full_final_list,columns=(\"Profile Name\",\"Profile URL\", \"Personal_data\", \"total_posts\",\"user_posts_url\", \"response_text\",\"response_time\"))\n",
        "print(df_final.shape)\n",
        "df_final.to_csv('/content/drive/MyDrive/Colab Data/Nigeria_profile_extract_final.csv', index= False)"
      ],
      "execution_count": null,
      "outputs": []
    },
    {
      "cell_type": "code",
      "metadata": {
        "colab": {
          "base_uri": "https://localhost:8080/",
          "height": 497
        },
        "id": "Kg5IJF0zlMP2",
        "outputId": "07d5e68c-c670-4f0f-dcc5-58f615050d41"
      },
      "source": [
        "df_final.head()"
      ],
      "execution_count": 7,
      "outputs": [
        {
          "output_type": "execute_result",
          "data": {
            "text/html": [
              "<div>\n",
              "<style scoped>\n",
              "    .dataframe tbody tr th:only-of-type {\n",
              "        vertical-align: middle;\n",
              "    }\n",
              "\n",
              "    .dataframe tbody tr th {\n",
              "        vertical-align: top;\n",
              "    }\n",
              "\n",
              "    .dataframe thead th {\n",
              "        text-align: right;\n",
              "    }\n",
              "</style>\n",
              "<table border=\"1\" class=\"dataframe\">\n",
              "  <thead>\n",
              "    <tr style=\"text-align: right;\">\n",
              "      <th></th>\n",
              "      <th>Profile Name</th>\n",
              "      <th>Profile URL</th>\n",
              "      <th>Personal_data</th>\n",
              "      <th>total_posts</th>\n",
              "      <th>user_posts_url</th>\n",
              "      <th>response_text</th>\n",
              "      <th>response_time</th>\n",
              "    </tr>\n",
              "  </thead>\n",
              "  <tbody>\n",
              "    <tr>\n",
              "      <th>0</th>\n",
              "      <td>Faller</td>\n",
              "      <td>https://www.nairaland.com/Faller</td>\n",
              "      <td>['', 'Location: London', 'Time registered: Aug...</td>\n",
              "      <td>672</td>\n",
              "      <td>https://www.nairaland.com/Faller/posts/0</td>\n",
              "      <td>See how the smoke black like Buhari's heart......</td>\n",
              "      <td>10:05pm Jun 21</td>\n",
              "    </tr>\n",
              "    <tr>\n",
              "      <th>1</th>\n",
              "      <td>Faller</td>\n",
              "      <td>https://www.nairaland.com/Faller</td>\n",
              "      <td>['', 'Location: London', 'Time registered: Aug...</td>\n",
              "      <td>672</td>\n",
              "      <td>https://www.nairaland.com/Faller/posts/0</td>\n",
              "      <td>e</td>\n",
              "      <td>4:20pm Jun 21</td>\n",
              "    </tr>\n",
              "    <tr>\n",
              "      <th>2</th>\n",
              "      <td>Faller</td>\n",
              "      <td>https://www.nairaland.com/Faller</td>\n",
              "      <td>['', 'Location: London', 'Time registered: Aug...</td>\n",
              "      <td>672</td>\n",
              "      <td>https://www.nairaland.com/Faller/posts/0</td>\n",
              "      <td>Na Dem go still use their hand bomb the place....</td>\n",
              "      <td>3:52pm Jun 21</td>\n",
              "    </tr>\n",
              "    <tr>\n",
              "      <th>3</th>\n",
              "      <td>Faller</td>\n",
              "      <td>https://www.nairaland.com/Faller</td>\n",
              "      <td>['', 'Location: London', 'Time registered: Aug...</td>\n",
              "      <td>672</td>\n",
              "      <td>https://www.nairaland.com/Faller/posts/0</td>\n",
              "      <td>Kobicove</td>\n",
              "      <td>3:46pm Jun 21</td>\n",
              "    </tr>\n",
              "    <tr>\n",
              "      <th>4</th>\n",
              "      <td>Faller</td>\n",
              "      <td>https://www.nairaland.com/Faller</td>\n",
              "      <td>['', 'Location: London', 'Time registered: Aug...</td>\n",
              "      <td>672</td>\n",
              "      <td>https://www.nairaland.com/Faller/posts/0</td>\n",
              "      <td>Catarrh abi??  I know wetin dey cause amYou do...</td>\n",
              "      <td>3:40pm Jun 21</td>\n",
              "    </tr>\n",
              "  </tbody>\n",
              "</table>\n",
              "</div>"
            ],
            "text/plain": [
              "  Profile Name  ...   response_time\n",
              "0       Faller  ...  10:05pm Jun 21\n",
              "1       Faller  ...   4:20pm Jun 21\n",
              "2       Faller  ...   3:52pm Jun 21\n",
              "3       Faller  ...   3:46pm Jun 21\n",
              "4       Faller  ...   3:40pm Jun 21\n",
              "\n",
              "[5 rows x 7 columns]"
            ]
          },
          "metadata": {
            "tags": []
          },
          "execution_count": 7
        }
      ]
    }
  ]
}