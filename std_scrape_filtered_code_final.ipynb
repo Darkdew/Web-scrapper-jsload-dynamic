{
  "nbformat": 4,
  "nbformat_minor": 0,
  "metadata": {
    "colab": {
      "name": "std_scrape_ravi_final.ipynb",
      "provenance": [],
      "collapsed_sections": [],
      "include_colab_link": true
    },
    "kernelspec": {
      "display_name": "Python 3",
      "language": "python",
      "name": "python3"
    },
    "language_info": {
      "codemirror_mode": {
        "name": "ipython",
        "version": 3
      },
      "file_extension": ".py",
      "mimetype": "text/x-python",
      "name": "python",
      "nbconvert_exporter": "python",
      "pygments_lexer": "ipython3",
      "version": "3.8.5"
    },
    "accelerator": "GPU"
  },
  "cells": [
    {
      "cell_type": "markdown",
      "metadata": {
        "id": "view-in-github",
        "colab_type": "text"
      },
      "source": [
        "<a href=\"https://colab.research.google.com/github/Darkdew/Web-scrapper-jsload-dynamic/blob/main/std_scrape_filtered_code_final.ipynb\" target=\"_parent\"><img src=\"https://colab.research.google.com/assets/colab-badge.svg\" alt=\"Open In Colab\"/></a>"
      ]
    },
    {
      "cell_type": "code",
      "metadata": {
        "id": "3un-dslW2HLz"
      },
      "source": [
        "import requests\n",
        "from bs4 import BeautifulSoup"
      ],
      "execution_count": null,
      "outputs": []
    },
    {
      "cell_type": "code",
      "metadata": {
        "id": "kK4EUGIG2MX8"
      },
      "source": [
        "headers = {'User-Agent':'Mozilla/5.0 (Windows NT 10.0; Win64; x64) AppleWebKit/537.36 (KHTML, like Gecko) Chrome/91.0.4472.77 Safari/537.36'}\n",
        "url = 'https://patient.info/forums/discuss/browse/genital-herpes-simplex-979'"
      ],
      "execution_count": null,
      "outputs": []
    },
    {
      "cell_type": "code",
      "metadata": {
        "id": "8oYqoGMy2Pjt"
      },
      "source": [
        "r = requests.get(url, headers= headers)\n",
        "soup = BeautifulSoup(r.text, 'html.parser')"
      ],
      "execution_count": null,
      "outputs": []
    },
    {
      "cell_type": "code",
      "metadata": {
        "id": "KmevbW1N3teR"
      },
      "source": [
        "thread_name = soup.find_all('div',{'class':'avt avt-sm'})"
      ],
      "execution_count": null,
      "outputs": []
    },
    {
      "cell_type": "code",
      "metadata": {
        "id": "-RXm-wgE2CJX"
      },
      "source": [
        "# next_page = soup.find_all('select',{'class':'submit reply__control reply-pagination'})[0].find('option')\n",
        "next_page = soup.find_all('div',{'class':'group-discussions__paginate_bottom'})[0].find('option').text"
      ],
      "execution_count": null,
      "outputs": []
    },
    {
      "cell_type": "code",
      "metadata": {
        "id": "-QI0eSzM2Pju"
      },
      "source": [
        "page_count = int(next_page.split('/')[1])"
      ],
      "execution_count": null,
      "outputs": []
    },
    {
      "cell_type": "code",
      "metadata": {
        "id": "42h-4YDM2wv2"
      },
      "source": [
        "import pandas as pd\n",
        "\n",
        "thread_name_list=[]\n",
        "thread_starter_name_list=[]\n",
        "thread_url_list=[]\n",
        "# reply_url_list = []\n",
        "profile_url_list=[]\n",
        "number_of_reply_list =[]\n",
        "last_teply_at_list=[]\n",
        "full_list=[]\n",
        "no_of_replies_list=[]\n",
        "thread_content_list=[]\n",
        "likes_count_list=[]\n",
        "\n",
        "next_page = soup.find_all('div',{'class':'group-discussions__paginate_bottom'})[0].find('option').text\n",
        "page_count = int(next_page.split('/')[1])\n",
        "j=0\n",
        "attempt=0\n",
        "while attempt<5:\n",
        "  try:\n",
        "    \n",
        "    for page_cnt in range(j, page_count):\n",
        "        \n",
        "        main_url= 'https://patient.info/forums/discuss/browse/genital-herpes-simplex-979'\n",
        "        current_url = main_url+\"?page=%d\" %(page_cnt)+'#group-discussions'\n",
        "        print(current_url)\n",
        "        r_current_url = requests.get(current_url, headers= headers)\n",
        "        current_url_soup = BeautifulSoup(r_current_url.text, 'html.parser')\n",
        "        current_url_thread_name = current_url_soup.find_all('div',{'class':'avt avt-sm'})\n",
        "              \n",
        "        for item in current_url_thread_name:\n",
        "            temp_list=[]\n",
        "            # Extracting thread title\n",
        "            \"\"\"\n",
        "            title1_a_tag=item.find('h3',{'class':'post__title'}).find('a')\n",
        "            strings = str(title1_a_tag)\n",
        "            soup = BeautifulSoup(strings,'html.parser')\n",
        "            thread_name_list.append(soup.find('a').encode_contents().decode('utf_8'))\n",
        "            \"\"\"\n",
        "            title1_a_tag=item.find('h3',{'class':'post__title'}).find('a').text\n",
        "            thread_name_list.append(title1_a_tag)\n",
        "            \n",
        "            # extracting thread starter name\n",
        "        #     profile_name=item.find('a',{'class':'action-link'}).text  ## we can get profile name by this line of code as well \n",
        "            profile_name=item.find('a',{'aria-label':'profile'}).text\n",
        "            profile_name_cleaned = profile_name.replace('\\r\\n','').replace(\" \",\"\")\n",
        "            thread_starter_name_list.append(profile_name_cleaned)\n",
        "            \n",
        "            # extracting thread url\n",
        "            # thread_url = item.find('a')['href']  #this line of code is also working to get the profile url\n",
        "            thread_url = item.find('h3',{'class':'post__title'}).find('a')['href']\n",
        "            thread_url_complete = \"https://patient.info\" + thread_url\n",
        "            #thread_url_list.append(thread_url_complete)\n",
        "            \n",
        "            ## extracting the content of the Thread URL\n",
        "            thread_content_r1 = requests.get(thread_url_complete, headers= headers)\n",
        "            thread_content_soup = BeautifulSoup(thread_content_r1.text, 'html.parser')\n",
        "            thread_content_temp = thread_content_soup.find_all('div',{'id':'post_content'})[0].find('input')['value']\n",
        "            thread_content_temp1 = thread_content_temp.replace('\\r','').replace('\\n','')\n",
        "            thread_content= BeautifulSoup(thread_content_temp1,'lxml').get_text()\n",
        "            \n",
        "            \n",
        "            \n",
        "        #     thread_content_list.append(thread_content)\n",
        "            ## extracting urls of replies however this is same as thread_url extracted above\n",
        "            \"\"\"\n",
        "            reply_url = item.find('a',{'title':'View replies'})['href']\n",
        "            reply_url_list.append(reply_url)\n",
        "            \"\"\"\n",
        "            \n",
        "            ## Extracting urls of profiles\n",
        "            profile_url = item.find('a',{'aria-label':'profile'})['href']\n",
        "            profile_url_complete = \"https://patient.info\" + profile_url\n",
        "            profile_url_list.append(profile_url_complete)\n",
        "            \n",
        "            last_teply_at = item.find('span',{'class':'last-reply-on'}).find('time')['datetime']\n",
        "            last_teply_at_list.append(last_teply_at)\n",
        "            \n",
        "            no_of_replies = item.find('div',{'class':'post__actions post__discussions likes_replies grid container'}).find('span',\"position\"==2).text\n",
        "            no_of_replies_list.append(no_of_replies)\n",
        "            \n",
        "            no_of_likes= item.find('span',{'class':'last-reply-on'}).text\n",
        "            \n",
        "            #iterating on total number of replies for each thread on master page\n",
        "            \"\"\"for i in range(no_of_replies):\n",
        "              ##\n",
        "              response_text = soup.find_all('div',{'class':'post__content break-word'})[i].find('input')['value']\n",
        "              \n",
        "              \n",
        "              ##\n",
        "              response_author_name= soup.find_all('h5',{'class':'author__info'})[i].find('a').text\n",
        "              \n",
        "\n",
        "              ##\n",
        "              response_recipient_name= soup.find_all('a',{'class':'author__recipient'})[i].text\n",
        "\n",
        "\n",
        "              ##\n",
        "              response_timestamp =soup.find_all('time',{'class':'fuzzy'})[i]['datetime']\n",
        "              #\n",
        "        #         process replies on next page\n",
        "            \"\"\"\n",
        "            temp_list=[title1_a_tag, profile_name_cleaned, no_of_replies,last_teply_at,thread_url_complete,thread_content]\n",
        "            full_list.append(temp_list)\n",
        "        j=j+1\n",
        "          \n",
        "    break\n",
        "  \n",
        "  except Exception as e:\n",
        "    print(e)\n",
        "    print(j)\n",
        "    attempt= attempt+1\n",
        "df = pd.DataFrame(full_list,columns=(\"Question\",\"Postby\",\"Number of Replies\",\"Last Reply At\",\"Thread Url\",\"Content\"))"
      ],
      "execution_count": null,
      "outputs": []
    },
    {
      "cell_type": "code",
      "metadata": {
        "colab": {
          "base_uri": "https://localhost:8080/",
          "height": 665
        },
        "id": "f7OG5jWT_eyN",
        "outputId": "410374f8-033e-4fd6-efc8-e7a61d4a3a51"
      },
      "source": [
        "df.head()"
      ],
      "execution_count": null,
      "outputs": [
        {
          "output_type": "execute_result",
          "data": {
            "text/html": [
              "<div>\n",
              "<style scoped>\n",
              "    .dataframe tbody tr th:only-of-type {\n",
              "        vertical-align: middle;\n",
              "    }\n",
              "\n",
              "    .dataframe tbody tr th {\n",
              "        vertical-align: top;\n",
              "    }\n",
              "\n",
              "    .dataframe thead th {\n",
              "        text-align: right;\n",
              "    }\n",
              "</style>\n",
              "<table border=\"1\" class=\"dataframe\">\n",
              "  <thead>\n",
              "    <tr style=\"text-align: right;\">\n",
              "      <th></th>\n",
              "      <th>Question</th>\n",
              "      <th>Postby</th>\n",
              "      <th>Number of Replies</th>\n",
              "      <th>Last Reply At</th>\n",
              "      <th>Thread Url</th>\n",
              "      <th>Content</th>\n",
              "    </tr>\n",
              "  </thead>\n",
              "  <tbody>\n",
              "    <tr>\n",
              "      <th>0</th>\n",
              "      <td>Request for Forum User Feedback</td>\n",
              "      <td>Emis_Moderator</td>\n",
              "      <td>1</td>\n",
              "      <td>2021-04-20T04:08+00:00</td>\n",
              "      <td>https://patient.info/forums/discuss/request-fo...</td>\n",
              "      <td>Hello,We recognise that recent changes to the ...</td>\n",
              "    </tr>\n",
              "    <tr>\n",
              "      <th>1</th>\n",
              "      <td>Genital Herpes: Useful info for those looking ...</td>\n",
              "      <td>FelizCastus</td>\n",
              "      <td>535</td>\n",
              "      <td>2020-07-09T14:38+00:00</td>\n",
              "      <td>https://patient.info/forums/discuss/genital-he...</td>\n",
              "      <td>Ever since I suspected genital herpes (GH) and...</td>\n",
              "    </tr>\n",
              "    <tr>\n",
              "      <th>2</th>\n",
              "      <td>Is this an outbreak of genital hsv on upper th...</td>\n",
              "      <td>parsnipz</td>\n",
              "      <td>2</td>\n",
              "      <td>2021-05-29T17:10+00:00</td>\n",
              "      <td>https://patient.info/forums/discuss/is-this-an...</td>\n",
              "      <td>I found out years ago I was exposed to genital...</td>\n",
              "    </tr>\n",
              "    <tr>\n",
              "      <th>3</th>\n",
              "      <td>Anal discomfort/discharge</td>\n",
              "      <td>ann14932</td>\n",
              "      <td>5</td>\n",
              "      <td>2021-05-29T16:35+00:00</td>\n",
              "      <td>https://patient.info/forums/discuss/anal-disco...</td>\n",
              "      <td>I have been having some anal discomfort for a ...</td>\n",
              "    </tr>\n",
              "    <tr>\n",
              "      <th>4</th>\n",
              "      <td>Is this herpes ?</td>\n",
              "      <td>kate45354</td>\n",
              "      <td>3</td>\n",
              "      <td>2021-05-29T10:36+00:00</td>\n",
              "      <td>https://patient.info/forums/discuss/is-this-he...</td>\n",
              "      <td>ive been having bad yeast infections back to b...</td>\n",
              "    </tr>\n",
              "  </tbody>\n",
              "</table>\n",
              "</div>"
            ],
            "text/plain": [
              "                                            Question  ...                                            Content\n",
              "0                    Request for Forum User Feedback  ...  Hello,We recognise that recent changes to the ...\n",
              "1  Genital Herpes: Useful info for those looking ...  ...  Ever since I suspected genital herpes (GH) and...\n",
              "2  Is this an outbreak of genital hsv on upper th...  ...  I found out years ago I was exposed to genital...\n",
              "3                          Anal discomfort/discharge  ...  I have been having some anal discomfort for a ...\n",
              "4                                  Is this herpes ?   ...  ive been having bad yeast infections back to b...\n",
              "\n",
              "[5 rows x 6 columns]"
            ]
          },
          "metadata": {
            "tags": []
          },
          "execution_count": 11
        }
      ]
    },
    {
      "cell_type": "code",
      "metadata": {
        "colab": {
          "base_uri": "https://localhost:8080/"
        },
        "id": "3b712h6P4KUy",
        "outputId": "fa04dc48-ae12-4cd5-9896-012bd706e7b9"
      },
      "source": [
        "len(df)"
      ],
      "execution_count": null,
      "outputs": [
        {
          "output_type": "execute_result",
          "data": {
            "text/plain": [
              "10099"
            ]
          },
          "metadata": {
            "tags": []
          },
          "execution_count": 13
        }
      ]
    },
    {
      "cell_type": "code",
      "metadata": {
        "id": "DdwzfMQQ_j_U"
      },
      "source": [
        "df.to_csv('/content/sample_data/master_df.csv', index=False)"
      ],
      "execution_count": null,
      "outputs": []
    },
    {
      "cell_type": "code",
      "metadata": {
        "colab": {
          "base_uri": "https://localhost:8080/"
        },
        "id": "mD5R1HVF_pBK",
        "outputId": "62613df2-66c9-4b1f-dfd7-3435ac14ea2b"
      },
      "source": [
        "from google.colab import drive\n",
        "drive.mount('/content/drive')"
      ],
      "execution_count": null,
      "outputs": [
        {
          "output_type": "stream",
          "text": [
            "Mounted at /content/drive\n"
          ],
          "name": "stdout"
        }
      ]
    },
    {
      "cell_type": "code",
      "metadata": {
        "id": "Ha2hdHYozpKE"
      },
      "source": [
        "#df_test = df.loc[[28]]\n",
        "#df_test"
      ],
      "execution_count": null,
      "outputs": []
    },
    {
      "cell_type": "code",
      "metadata": {
        "id": "ZlcdxBtzzpKF"
      },
      "source": [
        "full_final_list=[]\n",
        "# import pandas as pd\n",
        "\n",
        "for index, row in df.iterrows():\n",
        "    temp_list1 =[]\n",
        "    headers = {'User-Agent':'Mozilla/5.0 (Windows NT 10.0; Win64; x64) AppleWebKit/537.36 (KHTML, like Gecko) Chrome/91.0.4472.77 Safari/537.36'}\n",
        "    \n",
        "    if int(row['Number of Replies'])>32:\n",
        "        page_count = 0\n",
        "        \n",
        "        while page_count < 34:\n",
        "            strings= row['Thread Url']\n",
        "            url = strings+\"?page=%d\" %(page_count)\n",
        "            print(url)\n",
        "            \n",
        "            r = requests.get(url, headers= headers)\n",
        "            soup = BeautifulSoup(r.text, 'html.parser')\n",
        "            \n",
        "            response_timestamp =soup.find_all('time',{'class':'fuzzy'})#[i]['datetime']\n",
        "            print(len(response_timestamp))\n",
        "      \n",
        "            for i in range(1,len(response_timestamp)):\n",
        "                response_author_name= soup.find_all('h5',{'class':'author__info'})[i].find('a').text\n",
        "                response_timestamp =soup.find_all('time',{'class':'fuzzy'})[i]['datetime']\n",
        "                \n",
        "                if soup.find('p',{'data-type':'deleted'}) or soup.find('p',{'data-type':'moderation'}):\n",
        "                    response_text = soup.find_all('div',{'class':'post__content break-word'})[i-1].find('p').text\n",
        "                else:\n",
        "                    response_text = soup.find_all('div',{'class':'post__content break-word'})[i-1].find('input')['value']\n",
        "                    \n",
        "                thread_content_temp1 = thread_content_temp.replace('\\r','').replace('\\n','')\n",
        "                thread_content= BeautifulSoup(thread_content_temp1,'lxml').get_text()\n",
        "                \n",
        "                #print(response_author_name)\n",
        "#                 print(response_text)\n",
        "                temp_list1= [row['Question'], row['Postby'], row['Number of Replies'], row['Last Reply At'], row['Thread Url'], row['Content'],response_author_name, response_timestamp, response_text]\n",
        "                full_final_list.append(temp_list1)\n",
        "            page_count += 1\n",
        "    else:\n",
        "        url= row['Thread Url']\n",
        "        r = requests.get(url, headers= headers)\n",
        "        soup = BeautifulSoup(r.text, 'html.parser')\n",
        "        response_timestamp =soup.find_all('time',{'class':'fuzzy'})#[i]['datetime']\n",
        "        print(len(response_timestamp))\n",
        "        print(url)\n",
        "        #for i in range(5):\n",
        "        for i in range(1,len(response_timestamp)):\n",
        "            response_author_name= soup.find_all('h5',{'class':'author__info'})[i].find('a').text\n",
        "            response_timestamp =soup.find_all('time',{'class':'fuzzy'})[i]['datetime']\n",
        "            if soup.find('p',{'data-type':'deleted'}) or soup.find('p',{'data-type':'moderation'}):\n",
        "                response_text= 'Message Deleted/Adjusted by moderator'\n",
        "                #response_text = soup.find_all('div',{'class':'post__content break-word'})[i-1].find('p').text\n",
        "            else:\n",
        "                response_text = soup.find_all('div',{'class':'post__content break-word'})[i-1].find('input')['value']\n",
        "      #print(response_author_name)\n",
        "#             print(response_text)\n",
        "            temp_list1= [row['Question'], row['Postby'], row['Number of Replies'], row['Last Reply At'], row['Thread Url'], row['Content'],response_author_name, response_timestamp, response_text]\n",
        "            full_final_list.append(temp_list1)\n",
        "  ##\n",
        "  #temp_list1= [row['Question'], row['Postby'], row['Number of Replies'], row['Last Reply At'], row['Thread Url'], row['Content'],response_author_name, response_timestamp]#, response_text]\n",
        "  #full_final_list.append(temp_list1)\n",
        "df_final = pd.DataFrame(full_final_list,columns=(\"Master_Question\",\"Master_Postby\",\"Master_Number of Replies\",\"Master_Last Reply At\",\"Master_Thread Url\",\"Master_Content\",\"response_author_name\",\"response_timestamp\",\"response_text\"))"
      ],
      "execution_count": null,
      "outputs": []
    },
    {
      "cell_type": "code",
      "metadata": {
        "colab": {
          "base_uri": "https://localhost:8080/",
          "height": 495
        },
        "id": "B0nt31RszpKG",
        "outputId": "2b9659dc-33b7-40af-ecc6-2f9acb02e9c8"
      },
      "source": [
        "#pd.set_option('max_colwidth',None)\n",
        "df_final.head()"
      ],
      "execution_count": null,
      "outputs": [
        {
          "output_type": "execute_result",
          "data": {
            "text/html": [
              "<div>\n",
              "<style scoped>\n",
              "    .dataframe tbody tr th:only-of-type {\n",
              "        vertical-align: middle;\n",
              "    }\n",
              "\n",
              "    .dataframe tbody tr th {\n",
              "        vertical-align: top;\n",
              "    }\n",
              "\n",
              "    .dataframe thead th {\n",
              "        text-align: right;\n",
              "    }\n",
              "</style>\n",
              "<table border=\"1\" class=\"dataframe\">\n",
              "  <thead>\n",
              "    <tr style=\"text-align: right;\">\n",
              "      <th></th>\n",
              "      <th>Master_Question</th>\n",
              "      <th>Master_Postby</th>\n",
              "      <th>Master_Number of Replies</th>\n",
              "      <th>Master_Last Reply At</th>\n",
              "      <th>Master_Thread Url</th>\n",
              "      <th>Master_Content</th>\n",
              "      <th>response_author_name</th>\n",
              "      <th>response_timestamp</th>\n",
              "      <th>response_text</th>\n",
              "    </tr>\n",
              "  </thead>\n",
              "  <tbody>\n",
              "    <tr>\n",
              "      <th>0</th>\n",
              "      <td>Request for Forum User Feedback</td>\n",
              "      <td>Emis_Moderator</td>\n",
              "      <td>1</td>\n",
              "      <td>2021-04-20T04:08+00:00</td>\n",
              "      <td>https://patient.info/forums/discuss/request-fo...</td>\n",
              "      <td>Hello,We recognise that recent changes to the ...</td>\n",
              "      <td>AnnaMarie73</td>\n",
              "      <td>2021-05-26T00:50+00:00</td>\n",
              "      <td>Message Deleted/Adjusted by moderator</td>\n",
              "    </tr>\n",
              "    <tr>\n",
              "      <th>1</th>\n",
              "      <td>Request for Forum User Feedback</td>\n",
              "      <td>Emis_Moderator</td>\n",
              "      <td>1</td>\n",
              "      <td>2021-04-20T04:08+00:00</td>\n",
              "      <td>https://patient.info/forums/discuss/request-fo...</td>\n",
              "      <td>Hello,We recognise that recent changes to the ...</td>\n",
              "      <td>mat44954</td>\n",
              "      <td>2021-05-09T10:38+00:00</td>\n",
              "      <td>Message Deleted/Adjusted by moderator</td>\n",
              "    </tr>\n",
              "    <tr>\n",
              "      <th>2</th>\n",
              "      <td>Genital Herpes: Useful info for those looking ...</td>\n",
              "      <td>FelizCastus</td>\n",
              "      <td>535</td>\n",
              "      <td>2020-07-09T14:38+00:00</td>\n",
              "      <td>https://patient.info/forums/discuss/genital-he...</td>\n",
              "      <td>Ever since I suspected genital herpes (GH) and...</td>\n",
              "      <td>FelizCastus</td>\n",
              "      <td>2021-05-03T16:04+00:00</td>\n",
              "      <td>[b]Genital HSV symptoms[/b]\\r\\n\\r\\nEveryone kn...</td>\n",
              "    </tr>\n",
              "    <tr>\n",
              "      <th>3</th>\n",
              "      <td>Genital Herpes: Useful info for those looking ...</td>\n",
              "      <td>FelizCastus</td>\n",
              "      <td>535</td>\n",
              "      <td>2020-07-09T14:38+00:00</td>\n",
              "      <td>https://patient.info/forums/discuss/genital-he...</td>\n",
              "      <td>Ever since I suspected genital herpes (GH) and...</td>\n",
              "      <td>FelizCastus</td>\n",
              "      <td>2021-03-16T20:41+00:00</td>\n",
              "      <td>Most individuals experience symptoms within th...</td>\n",
              "    </tr>\n",
              "    <tr>\n",
              "      <th>4</th>\n",
              "      <td>Genital Herpes: Useful info for those looking ...</td>\n",
              "      <td>FelizCastus</td>\n",
              "      <td>535</td>\n",
              "      <td>2020-07-09T14:38+00:00</td>\n",
              "      <td>https://patient.info/forums/discuss/genital-he...</td>\n",
              "      <td>Ever since I suspected genital herpes (GH) and...</td>\n",
              "      <td>josiphine24649</td>\n",
              "      <td>2015-12-10T17:09+00:00</td>\n",
              "      <td>Do HSV1 &amp; 2 infections look the same on the ge...</td>\n",
              "    </tr>\n",
              "  </tbody>\n",
              "</table>\n",
              "</div>"
            ],
            "text/plain": [
              "                                     Master_Question  ...                                      response_text\n",
              "0                    Request for Forum User Feedback  ...              Message Deleted/Adjusted by moderator\n",
              "1                    Request for Forum User Feedback  ...              Message Deleted/Adjusted by moderator\n",
              "2  Genital Herpes: Useful info for those looking ...  ...  [b]Genital HSV symptoms[/b]\\r\\n\\r\\nEveryone kn...\n",
              "3  Genital Herpes: Useful info for those looking ...  ...  Most individuals experience symptoms within th...\n",
              "4  Genital Herpes: Useful info for those looking ...  ...  Do HSV1 & 2 infections look the same on the ge...\n",
              "\n",
              "[5 rows x 9 columns]"
            ]
          },
          "metadata": {
            "tags": []
          },
          "execution_count": 18
        }
      ]
    },
    {
      "cell_type": "code",
      "metadata": {
        "colab": {
          "base_uri": "https://localhost:8080/"
        },
        "id": "_3nEJ2bd5UGq",
        "outputId": "576c0a47-27d4-4cf8-a890-e202d87ec0b8"
      },
      "source": [
        "len(df_final)"
      ],
      "execution_count": null,
      "outputs": [
        {
          "output_type": "execute_result",
          "data": {
            "text/plain": [
              "50595"
            ]
          },
          "metadata": {
            "tags": []
          },
          "execution_count": 19
        }
      ]
    },
    {
      "cell_type": "code",
      "metadata": {
        "id": "3sTUY56fzpKH"
      },
      "source": [
        "df_final.to_csv('gential_herpes_simplex_data_v1.csv', index=False)"
      ],
      "execution_count": null,
      "outputs": []
    },
    {
      "cell_type": "code",
      "metadata": {
        "id": "Tq6bV0IuzpKH"
      },
      "source": [
        "len(df_final)"
      ],
      "execution_count": null,
      "outputs": []
    }
  ]
}